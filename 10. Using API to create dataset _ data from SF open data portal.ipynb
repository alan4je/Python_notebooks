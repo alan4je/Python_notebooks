{
 "cells": [
  {
   "cell_type": "code",
   "execution_count": 1,
   "metadata": {
    "collapsed": true
   },
   "outputs": [],
   "source": [
    "%matplotlib inline\n",
    "\n",
    "import pandas as pd\n",
    "import urllib\n",
    "import json"
   ]
  },
  {
   "cell_type": "code",
   "execution_count": 2,
   "metadata": {
    "collapsed": false
   },
   "outputs": [
    {
     "name": "stdout",
     "output_type": "stream",
     "text": [
      "[ {\n",
      "  \"other_cause\" : false,\n",
      "  \"failure_to_sign_renewal\" : false,\n",
      "  \"demolition\" : false,\n",
      "  \"ellis_act_withdrawal\" : false,\n",
      "  \"development\" : false,\n",
      "  \"state\" : \"CA\",\n",
      "  \"city\" : \"San Francisco\",\n",
      "  \"client_location\" : {\n",
      "    \"needs_recoding\" : false,\n",
      "    \"longitude\" : \"-122.444468830184\",\n",
      "    \"latitude\" : \"37.7513305524855\",\n",
      "    \"human_address\" : \"{\\\"address\\\":\\\"\\\",\\\"city\\\":\\\"\\\",\\\"state\\\":\\\"\\\",\\\"zip\\\":\\\"\\\"}\"\n",
      "  },\n",
      "  \"breach\" : true,\n",
      "  \"owner_move_in\" : false,\n",
      "  \"access_denial\" : false,\n",
      "  \"non_payme\n",
      "<type 'str'>\n"
     ]
    }
   ],
   "source": [
    "# endpoint for eviction notices in SF\n",
    "endpoint_url = \"https://data.sfgov.org/resource/5cei-gny5.json\"\n",
    "\n",
    "# open a connection to the URL\n",
    "connection = urllib.urlopen(endpoint_url)\n",
    "\n",
    "# download the results\n",
    "results = connection.read()\n",
    "\n",
    "print results[:500]  # first 500 characters\n",
    "print type(results)"
   ]
  },
  {
   "cell_type": "code",
   "execution_count": 5,
   "metadata": {
    "collapsed": false
   },
   "outputs": [
    {
     "name": "stdout",
     "output_type": "stream",
     "text": [
      "<type 'list'>\n",
      "1000\n"
     ]
    }
   ],
   "source": [
    "# the results are a string with JSON-formatted data inside\n",
    "\n",
    "# parse the string into a Python data structure\n",
    "data = json.loads(results)\n",
    "\n",
    "print type(data)\n",
    "print len(data)"
   ]
  },
  {
   "cell_type": "code",
   "execution_count": 6,
   "metadata": {
    "collapsed": true
   },
   "outputs": [],
   "source": [
    "ds = pd.DataFrame(data)"
   ]
  },
  {
   "cell_type": "code",
   "execution_count": 7,
   "metadata": {
    "collapsed": false
   },
   "outputs": [
    {
     "data": {
      "text/html": [
       "<div>\n",
       "<table border=\"1\" class=\"dataframe\">\n",
       "  <thead>\n",
       "    <tr style=\"text-align: right;\">\n",
       "      <th></th>\n",
       "      <th>access_denial</th>\n",
       "      <th>address</th>\n",
       "      <th>breach</th>\n",
       "      <th>capital_improvement</th>\n",
       "      <th>city</th>\n",
       "      <th>client_location</th>\n",
       "      <th>condo_conversion</th>\n",
       "      <th>constraints</th>\n",
       "      <th>constraints_date</th>\n",
       "      <th>demolition</th>\n",
       "      <th>...</th>\n",
       "      <th>non_payment</th>\n",
       "      <th>nuisance</th>\n",
       "      <th>other_cause</th>\n",
       "      <th>owner_move_in</th>\n",
       "      <th>roommate_same_unit</th>\n",
       "      <th>state</th>\n",
       "      <th>substantial_rehab</th>\n",
       "      <th>supervisor_district</th>\n",
       "      <th>unapproved_subtenant</th>\n",
       "      <th>zip</th>\n",
       "    </tr>\n",
       "  </thead>\n",
       "  <tbody>\n",
       "    <tr>\n",
       "      <th>0</th>\n",
       "      <td>False</td>\n",
       "      <td>600 Block of Burnett  Avenue</td>\n",
       "      <td>True</td>\n",
       "      <td>False</td>\n",
       "      <td>San Francisco</td>\n",
       "      <td>{u'latitude': u'37.7513305524855', u'needs_rec...</td>\n",
       "      <td>False</td>\n",
       "      <td>0</td>\n",
       "      <td>NaN</td>\n",
       "      <td>False</td>\n",
       "      <td>...</td>\n",
       "      <td>False</td>\n",
       "      <td>False</td>\n",
       "      <td>False</td>\n",
       "      <td>False</td>\n",
       "      <td>False</td>\n",
       "      <td>CA</td>\n",
       "      <td>False</td>\n",
       "      <td>8</td>\n",
       "      <td>False</td>\n",
       "      <td>94131</td>\n",
       "    </tr>\n",
       "    <tr>\n",
       "      <th>1</th>\n",
       "      <td>False</td>\n",
       "      <td>2600 Block of 22nd  Street</td>\n",
       "      <td>False</td>\n",
       "      <td>False</td>\n",
       "      <td>San Francisco</td>\n",
       "      <td>{u'latitude': u'37.7560269818259', u'needs_rec...</td>\n",
       "      <td>False</td>\n",
       "      <td>0</td>\n",
       "      <td>NaN</td>\n",
       "      <td>False</td>\n",
       "      <td>...</td>\n",
       "      <td>False</td>\n",
       "      <td>True</td>\n",
       "      <td>False</td>\n",
       "      <td>False</td>\n",
       "      <td>False</td>\n",
       "      <td>CA</td>\n",
       "      <td>False</td>\n",
       "      <td>9</td>\n",
       "      <td>False</td>\n",
       "      <td>94110</td>\n",
       "    </tr>\n",
       "    <tr>\n",
       "      <th>2</th>\n",
       "      <td>False</td>\n",
       "      <td>1000 Block of Chestnut  Street</td>\n",
       "      <td>True</td>\n",
       "      <td>False</td>\n",
       "      <td>San Francisco</td>\n",
       "      <td>{u'latitude': u'37.8028649955598', u'needs_rec...</td>\n",
       "      <td>False</td>\n",
       "      <td>0</td>\n",
       "      <td>NaN</td>\n",
       "      <td>False</td>\n",
       "      <td>...</td>\n",
       "      <td>False</td>\n",
       "      <td>False</td>\n",
       "      <td>False</td>\n",
       "      <td>False</td>\n",
       "      <td>False</td>\n",
       "      <td>CA</td>\n",
       "      <td>False</td>\n",
       "      <td>2</td>\n",
       "      <td>False</td>\n",
       "      <td>94103</td>\n",
       "    </tr>\n",
       "    <tr>\n",
       "      <th>3</th>\n",
       "      <td>False</td>\n",
       "      <td>600 Block of Burnett  Avenue</td>\n",
       "      <td>True</td>\n",
       "      <td>False</td>\n",
       "      <td>San Francisco</td>\n",
       "      <td>{u'latitude': u'37.7513305524855', u'needs_rec...</td>\n",
       "      <td>False</td>\n",
       "      <td>0</td>\n",
       "      <td>NaN</td>\n",
       "      <td>False</td>\n",
       "      <td>...</td>\n",
       "      <td>False</td>\n",
       "      <td>False</td>\n",
       "      <td>False</td>\n",
       "      <td>False</td>\n",
       "      <td>False</td>\n",
       "      <td>CA</td>\n",
       "      <td>False</td>\n",
       "      <td>8</td>\n",
       "      <td>False</td>\n",
       "      <td>94131</td>\n",
       "    </tr>\n",
       "    <tr>\n",
       "      <th>4</th>\n",
       "      <td>False</td>\n",
       "      <td>1300 Block of kansas  Street</td>\n",
       "      <td>False</td>\n",
       "      <td>False</td>\n",
       "      <td>San Francisco</td>\n",
       "      <td>{u'latitude': u'37.7526024924613', u'needs_rec...</td>\n",
       "      <td>False</td>\n",
       "      <td>0</td>\n",
       "      <td>NaN</td>\n",
       "      <td>True</td>\n",
       "      <td>...</td>\n",
       "      <td>False</td>\n",
       "      <td>False</td>\n",
       "      <td>False</td>\n",
       "      <td>False</td>\n",
       "      <td>False</td>\n",
       "      <td>CA</td>\n",
       "      <td>False</td>\n",
       "      <td>10</td>\n",
       "      <td>False</td>\n",
       "      <td>94107</td>\n",
       "    </tr>\n",
       "  </tbody>\n",
       "</table>\n",
       "<p>5 rows × 29 columns</p>\n",
       "</div>"
      ],
      "text/plain": [
       "  access_denial                         address breach capital_improvement  \\\n",
       "0         False    600 Block of Burnett  Avenue   True               False   \n",
       "1         False      2600 Block of 22nd  Street  False               False   \n",
       "2         False  1000 Block of Chestnut  Street   True               False   \n",
       "3         False    600 Block of Burnett  Avenue   True               False   \n",
       "4         False    1300 Block of kansas  Street  False               False   \n",
       "\n",
       "            city                                    client_location  \\\n",
       "0  San Francisco  {u'latitude': u'37.7513305524855', u'needs_rec...   \n",
       "1  San Francisco  {u'latitude': u'37.7560269818259', u'needs_rec...   \n",
       "2  San Francisco  {u'latitude': u'37.8028649955598', u'needs_rec...   \n",
       "3  San Francisco  {u'latitude': u'37.7513305524855', u'needs_rec...   \n",
       "4  San Francisco  {u'latitude': u'37.7526024924613', u'needs_rec...   \n",
       "\n",
       "  condo_conversion constraints constraints_date demolition  ...   non_payment  \\\n",
       "0            False           0              NaN      False  ...         False   \n",
       "1            False           0              NaN      False  ...         False   \n",
       "2            False           0              NaN      False  ...         False   \n",
       "3            False           0              NaN      False  ...         False   \n",
       "4            False           0              NaN       True  ...         False   \n",
       "\n",
       "  nuisance other_cause owner_move_in roommate_same_unit state  \\\n",
       "0    False       False         False              False    CA   \n",
       "1     True       False         False              False    CA   \n",
       "2    False       False         False              False    CA   \n",
       "3    False       False         False              False    CA   \n",
       "4    False       False         False              False    CA   \n",
       "\n",
       "  substantial_rehab supervisor_district unapproved_subtenant    zip  \n",
       "0             False                   8                False  94131  \n",
       "1             False                   9                False  94110  \n",
       "2             False                   2                False  94103  \n",
       "3             False                   8                False  94131  \n",
       "4             False                  10                False  94107  \n",
       "\n",
       "[5 rows x 29 columns]"
      ]
     },
     "execution_count": 7,
     "metadata": {},
     "output_type": "execute_result"
    }
   ],
   "source": [
    "ds.head()"
   ]
  },
  {
   "cell_type": "code",
   "execution_count": 9,
   "metadata": {
    "collapsed": false
   },
   "outputs": [
    {
     "data": {
      "text/plain": [
       "Index([u'access_denial', u'address', u'breach', u'capital_improvement',\n",
       "       u'city', u'client_location', u'condo_conversion', u'constraints',\n",
       "       u'constraints_date', u'demolition', u'development',\n",
       "       u'ellis_act_withdrawal', u'eviction_id', u'failure_to_sign_renewal',\n",
       "       u'file_date', u'illegal_use', u'late_payments', u'lead_remediation',\n",
       "       u'neighborhood', u'non_payment', u'nuisance', u'other_cause',\n",
       "       u'owner_move_in', u'roommate_same_unit', u'state', u'substantial_rehab',\n",
       "       u'supervisor_district', u'unapproved_subtenant', u'zip'],\n",
       "      dtype='object')"
      ]
     },
     "execution_count": 9,
     "metadata": {},
     "output_type": "execute_result"
    }
   ],
   "source": [
    "ds.columns"
   ]
  },
  {
   "cell_type": "code",
   "execution_count": 23,
   "metadata": {
    "collapsed": false
   },
   "outputs": [
    {
     "data": {
      "text/plain": [
       "u'-122.40804532047'"
      ]
     },
     "execution_count": 23,
     "metadata": {},
     "output_type": "execute_result"
    }
   ],
   "source": [
    "ds.client_location[1]['longitude']"
   ]
  },
  {
   "cell_type": "code",
   "execution_count": 27,
   "metadata": {
    "collapsed": false
   },
   "outputs": [
    {
     "data": {
      "text/plain": [
       "pandas.core.series.Series"
      ]
     },
     "execution_count": 27,
     "metadata": {},
     "output_type": "execute_result"
    }
   ],
   "source": [
    "type(ds.client_location)"
   ]
  },
  {
   "cell_type": "code",
   "execution_count": 34,
   "metadata": {
    "collapsed": true
   },
   "outputs": [],
   "source": [
    "def getcoord(row, val):\n",
    "    loc = row['client_location']\n",
    "    var = 'latitude'\n",
    "    if (type(loc) == dict) & (var in loc.keys()):\n",
    "        lat = loc['latitude']\n",
    "        long = loc['longitude']\n",
    "        if val == 1:\n",
    "            return lat\n",
    "        else:\n",
    "            return long\n",
    "    else:\n",
    "        return None"
   ]
  },
  {
   "cell_type": "code",
   "execution_count": 36,
   "metadata": {
    "collapsed": false
   },
   "outputs": [],
   "source": [
    "ds['latitude'] = ds.apply(getcoord, axis =1, args = (1,))\n",
    "ds['longitude'] = ds.apply(getcoord, axis =1, args = (2,))"
   ]
  },
  {
   "cell_type": "code",
   "execution_count": 38,
   "metadata": {
    "collapsed": false
   },
   "outputs": [
    {
     "name": "stdout",
     "output_type": "stream",
     "text": [
      "11\n"
     ]
    }
   ],
   "source": [
    "print len(ds[ds.latitude.isnull() == 1])"
   ]
  },
  {
   "cell_type": "code",
   "execution_count": 41,
   "metadata": {
    "collapsed": false
   },
   "outputs": [],
   "source": [
    "ds.latitude = ds.latitude.astype('float64')\n",
    "ds.longitude = ds.longitude.astype('float64')"
   ]
  },
  {
   "cell_type": "code",
   "execution_count": 42,
   "metadata": {
    "collapsed": true
   },
   "outputs": [],
   "source": [
    "df = ds[ds.latitude.isnull() == 0]"
   ]
  },
  {
   "cell_type": "code",
   "execution_count": 43,
   "metadata": {
    "collapsed": false
   },
   "outputs": [
    {
     "name": "stdout",
     "output_type": "stream",
     "text": [
      "989\n"
     ]
    }
   ],
   "source": [
    "print len(df)"
   ]
  },
  {
   "cell_type": "code",
   "execution_count": 44,
   "metadata": {
    "collapsed": true
   },
   "outputs": [],
   "source": [
    "df.to_csv('A10data.csv')"
   ]
  },
  {
   "cell_type": "code",
   "execution_count": null,
   "metadata": {
    "collapsed": true
   },
   "outputs": [],
   "source": []
  }
 ],
 "metadata": {
  "kernelspec": {
   "display_name": "Python 2",
   "language": "python",
   "name": "python2"
  },
  "language_info": {
   "codemirror_mode": {
    "name": "ipython",
    "version": 2
   },
   "file_extension": ".py",
   "mimetype": "text/x-python",
   "name": "python",
   "nbconvert_exporter": "python",
   "pygments_lexer": "ipython2",
   "version": "2.7.10"
  }
 },
 "nbformat": 4,
 "nbformat_minor": 0
}
