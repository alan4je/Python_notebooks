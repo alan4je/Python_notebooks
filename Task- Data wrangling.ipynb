{
 "cells": [
  {
   "cell_type": "code",
   "execution_count": 1,
   "metadata": {
    "collapsed": false
   },
   "outputs": [
    {
     "name": "stderr",
     "output_type": "stream",
     "text": [
      "/Users/Alan/Library/Enthought/Canopy_64bit/User/lib/python2.7/site-packages/pandas/io/parsers.py:1170: DtypeWarning: Columns (8,40,47) have mixed types. Specify dtype option on import or set low_memory=False.\n",
      "  data = self._reader.read(nrows)\n"
     ]
    }
   ],
   "source": [
    "%matplotlib inline\n",
    "\n",
    "# import necessary modules\n",
    "import pandas as pd, numpy as np, matplotlib.pyplot as plt\n",
    "import matplotlib.cm as cm, matplotlib.font_manager as fm\n",
    "\n",
    "#reading the csv file\n",
    "df = pd.read_csv('311_Service_Requests_from_2010_to_Present.csv')\n",
    "# df.head()"
   ]
  },
  {
   "cell_type": "markdown",
   "metadata": {},
   "source": [
    "# Part (a)"
   ]
  },
  {
   "cell_type": "code",
   "execution_count": 2,
   "metadata": {
    "collapsed": false
   },
   "outputs": [
    {
     "data": {
      "text/plain": [
       "array(['NYPD', 'TLC', 'DPR', 'DOHMH', 'DSNY', 'DOT', 'CHALL', 'DOF', 'HRA',\n",
       "       'HPD', 'DEP', 'DOB', 'DHS', 'DCA', '3-1-1', 'DOE', 'OATH', 'FDNY',\n",
       "       'DFTA', 'EDC', 'OPS', 'DOITT', 'NYCEM', 'NYCSERVICE', 'COIB'], dtype=object)"
      ]
     },
     "execution_count": 2,
     "metadata": {},
     "output_type": "execute_result"
    }
   ],
   "source": [
    "df.Agency.unique()"
   ]
  },
  {
   "cell_type": "code",
   "execution_count": 3,
   "metadata": {
    "collapsed": false
   },
   "outputs": [
    {
     "data": {
      "text/plain": [
       "<matplotlib.axes._subplots.AxesSubplot at 0x113769590>"
      ]
     },
     "execution_count": 3,
     "metadata": {},
     "output_type": "execute_result"
    },
    {
     "data": {
      "image/png": "[encoded data removed]",
      "text/plain": [
       "<matplotlib.figure.Figure at 0x1040f4110>"
      ]
     },
     "metadata": {},
     "output_type": "display_data"
    }
   ],
   "source": [
    "complaints = df.Agency.value_counts()\n",
    "complaints.plot(kind = 'bar')"
   ]
  },
  {
   "cell_type": "code",
   "execution_count": 4,
   "metadata": {
    "collapsed": false
   },
   "outputs": [
    {
     "name": "stdout",
     "output_type": "stream",
     "text": [
      "0.1897961504\n"
     ]
    }
   ],
   "source": [
    "fraction_2nd_most_popular = np.float(complaints[complaints.index == 'NYPD'])/complaints.sum()\n",
    "print np.round(fraction_2nd_most_popular,10)"
   ]
  },
  {
   "cell_type": "markdown",
   "metadata": {},
   "source": [
    "# Part (b)"
   ]
  },
  {
   "cell_type": "code",
   "execution_count": 5,
   "metadata": {
    "collapsed": false
   },
   "outputs": [],
   "source": [
    "#creating a copy of the dataframe\n",
    "data = df.copy()\n",
    "data.loc[:,'code'] = 1\n",
    "boroughs = data.Borough.value_counts()\n",
    "complaintTypes = data['Complaint Type'].value_counts()\n",
    "CBgroups = data.groupby(by=['Complaint Type', 'Borough'], axis=0, as_index=False, group_keys=False)\n",
    "cds = CBgroups.sum() #cumulated dataset\n",
    "# cds.head()"
   ]
  },
  {
   "cell_type": "code",
   "execution_count": 6,
   "metadata": {
    "collapsed": false
   },
   "outputs": [
    {
     "name": "stdout",
     "output_type": "stream",
     "text": [
      "26.7982188891\n"
     ]
    }
   ],
   "source": [
    "cds.loc[:,'p(CTnB)'] = cds['code'].apply(lambda x: x*1.0/cds.code.sum())\n",
    "cds.loc[:,'p(CT)'] = cds['Complaint Type'].apply(lambda x: float(complaintTypes[complaintTypes.index==x])/cds.code.sum())\n",
    "cds.loc[:,'p(B)'] = cds['Borough'].apply(lambda x: float(boroughs[boroughs.index==x])/cds.code.sum())\n",
    "cds.loc[:,'ratio'] = cds['p(CTnB)'].div(cds['p(CT)'].mul(cds['p(B)']))\n",
    "# cds.head()\n",
    "\n",
    "required = np.round(cds.ratio.max(), 10)\n",
    "print required"
   ]
  },
  {
   "cell_type": "markdown",
   "metadata": {},
   "source": [
    "# Part (c)"
   ]
  },
  {
   "cell_type": "markdown",
   "metadata": {},
   "source": [
    "What is the distance (in degrees) between the 90% and 10% percentiles of degrees latitude?"
   ]
  },
  {
   "cell_type": "code",
   "execution_count": 7,
   "metadata": {
    "collapsed": false
   },
   "outputs": [
    {
     "name": "stdout",
     "output_type": "stream",
     "text": [
      "0.2307434642\n"
     ]
    }
   ],
   "source": [
    "ans = np.round(data.Latitude.quantile(0.9) - data.Latitude.quantile(0.1), 10)\n",
    "print ans"
   ]
  },
  {
   "cell_type": "markdown",
   "metadata": {},
   "source": [
    "# Part (d)\n",
    "Let's estimate the area that 311 supports. Suppose calls are 2D normally distributed on the surface of the earth with mean and standard deviation given by those of the latitude and longitude. How many square kilometers is the single-standard-deviation ellipse?"
   ]
  },
  {
   "cell_type": "code",
   "execution_count": 8,
   "metadata": {
    "collapsed": true
   },
   "outputs": [],
   "source": [
    "# From http://www.longitudestore.com/how-big-is-one-gps-degree.html, at 40 deg N Latitude:\n",
    "# One degree of latitude =  111.03 km or  68.99 mi\n",
    "# One degree of longitude =  85.39 km or  53.06 mi\n",
    "# #The mean lat and long are used to calculate the reference points to be used to calculate the respective distances\n",
    "# import math\n",
    "# rlat = mlat * math.pi/180  # reference latitude\n",
    "# rlong = mlong * math.pi/180  # reference latitude\n",
    "# # metres per degree latitude\n",
    "# d_meters = 111132.92 - 559.82* math.cos(2*rlat) + 1.175 * math.cos(4*rlat) \n",
    "# d_Km = d_meters/1000"
   ]
  },
  {
   "cell_type": "code",
   "execution_count": 9,
   "metadata": {
    "collapsed": false
   },
   "outputs": [
    {
     "name": "stdout",
     "output_type": "stream",
     "text": [
      "199.929067592\n"
     ]
    }
   ],
   "source": [
    "# mean Latitude and Longitude\n",
    "import math\n",
    "mlat = data.Latitude.mean()\n",
    "mlong = data.Longitude.mean()\n",
    "# print mlat, mlong\n",
    "\n",
    "Lat_change = 111.03 # Km per degree\n",
    "Long_change = 85.39 # Km per degree\n",
    "\n",
    "# Area of ellipse = pi * a * b\n",
    "a = data.Latitude.std() * Lat_change\n",
    "b = data.Longitude.std() * Long_change\n",
    "area = math.pi * a * b\n",
    "print np.round(area, 10)"
   ]
  },
  {
   "cell_type": "markdown",
   "metadata": {},
   "source": [
    "# Part (e)\n",
    "What is the difference between the expected number of calls received during the most and least popular whole hours of the day? (Remove points which do not seem to accurately reflect the actual time they were reported.)"
   ]
  },
  {
   "cell_type": "code",
   "execution_count": 10,
   "metadata": {
    "collapsed": false
   },
   "outputs": [],
   "source": [
    "import re\n",
    "def getHour(date):\n",
    "    r = re.search('(\\d+\\/\\d+\\/\\d+ )(\\d+)(:\\d+:\\d+ )(.*)', date)\n",
    "    return r.group(2)\n",
    "def getPeriod(date):\n",
    "    r = re.search('(\\d+\\/\\d+\\/\\d+ )(\\d+)(:\\d+:\\d+ )(.*)', date)\n",
    "    return r.group(4)\n",
    "# dt.loc[:, 'hour'] = dt['Created Date'] .apply(getHour)\n",
    "# dt.loc[:, 'period'] = dt['Created Date'] .apply(getPeriod)\n",
    "# dt.loc[:, 'time'] = dt.apply(lambda x: int(float(x['hour'])) + 12 if x['period'] == 'PM' else x['hour'], axis = 1)\n",
    "# dt.time = dt.time.astype('float64')"
   ]
  },
  {
   "cell_type": "code",
   "execution_count": 11,
   "metadata": {
    "collapsed": false
   },
   "outputs": [],
   "source": [
    "# reading in the dataset and creating the datetime index format\n",
    "dt = pd.read_csv('311_Service_Requests_from_2010_to_Present.csv', index_col='Created Date', parse_dates=True)\n",
    "# dt.head()"
   ]
  },
  {
   "cell_type": "code",
   "execution_count": 12,
   "metadata": {
    "collapsed": false
   },
   "outputs": [
    {
     "name": "stdout",
     "output_type": "stream",
     "text": [
      "1140.57142857\n"
     ]
    },
    {
     "name": "stderr",
     "output_type": "stream",
     "text": [
      "/Users/Alan/Library/Enthought/Canopy_64bit/User/lib/python2.7/site-packages/pandas/core/indexing.py:249: SettingWithCopyWarning: \n",
      "A value is trying to be set on a copy of a slice from a DataFrame.\n",
      "Try using .loc[row_indexer,col_indexer] = value instead\n",
      "\n",
      "See the the caveats in the documentation: http://pandas.pydata.org/pandas-docs/stable/indexing.html#indexing-view-versus-copy\n",
      "  self.obj[key] = _infer_fill_value(value)\n",
      "/Users/Alan/Library/Enthought/Canopy_64bit/User/lib/python2.7/site-packages/pandas/core/indexing.py:415: SettingWithCopyWarning: \n",
      "A value is trying to be set on a copy of a slice from a DataFrame.\n",
      "Try using .loc[row_indexer,col_indexer] = value instead\n",
      "\n",
      "See the the caveats in the documentation: http://pandas.pydata.org/pandas-docs/stable/indexing.html#indexing-view-versus-copy\n",
      "  self.obj[item] = s\n"
     ]
    }
   ],
   "source": [
    "dt.loc[:, 'dayofweek'] = dt.index.weekday\n",
    "dt.loc[:, 'hour'] = dt.index.hour\n",
    "# Subset of the dataframe\n",
    "ndt = dt[['dayofweek', 'hour']]\n",
    "ndt.loc[:, 'count'] = 1\n",
    "groupedDf = ndt.groupby(by = ['dayofweek', 'hour'])\n",
    "sumDf = groupedDf.sum()\n",
    "hours = np.arange(24)\n",
    "weekhours = np.tile(hours, 7)\n",
    "sumDf.loc[:, 'hour'] = weekhours\n",
    "# Creating copy of dataframe\n",
    "nds = sumDf.copy()\n",
    "nds.index = np.arange(len(nds))+1\n",
    "nds.loc[:, 'ncalls'] = nds.apply(lambda x: x['count'], axis = 1)\n",
    "nds.ncalls = nds.ncalls.astype('float64')\n",
    "# determining the mean number of calls per hour\n",
    "expected_callNos = [nds[nds.hour == hr].ncalls.mean() for hr in np.arange(24)]\n",
    "ans_required = np.max(expected_callNos) - np.min(expected_callNos)\n",
    "print np.round(ans_required, 10)"
   ]
  },
  {
   "cell_type": "markdown",
   "metadata": {},
   "source": [
    "# Part (f)\n",
    "What is the standard deviation in seconds of the time between consecutive calls? (Remove points which do not seem to accurately reflect the actual time they were reported.)"
   ]
  },
  {
   "cell_type": "code",
   "execution_count": 13,
   "metadata": {
    "collapsed": false
   },
   "outputs": [
    {
     "name": "stdout",
     "output_type": "stream",
     "text": [
      "1170.92390647\n"
     ]
    }
   ],
   "source": [
    "dt.loc[:, 'date'] = dt.index.date\n",
    "dt.loc[:, 'time'] = dt.index.time\n",
    "dt.loc[:, 'second'] = dt.index.second\n",
    "dt.loc[:, 'minute'] = dt.index.minute\n",
    "dt.loc[:, 'hour'] = dt.index.hour\n",
    "dt.loc[:, 'time_seconds'] = dt.hour*3600 + dt.minute*60 + dt.second\n",
    "sorted_df = dt.sort(columns = ['date', 'time'])\n",
    "timeBTNcalls = np.array(sorted_df.time_seconds)[1:] - np.array(sorted_df.time_seconds)[:-1]\n",
    "sd_timeBTNcalls = np.std(timeBTNcalls)\n",
    "print np.round(sd_timeBTNcalls, 10)"
   ]
  }
 ],
 "metadata": {
  "kernelspec": {
   "display_name": "Python 2",
   "language": "python",
   "name": "python2"
  },
  "language_info": {
   "codemirror_mode": {
    "name": "ipython",
    "version": 2
   },
   "file_extension": ".py",
   "mimetype": "text/x-python",
   "name": "python",
   "nbconvert_exporter": "python",
   "pygments_lexer": "ipython2",
   "version": "2.7.9"
  }
 },
 "nbformat": 4,
 "nbformat_minor": 0
}
