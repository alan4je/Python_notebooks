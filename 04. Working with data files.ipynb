{
 "cells": [
  {
   "cell_type": "markdown",
   "metadata": {},
   "source": [
    "# Exercise 4: Working with data files"
   ]
  },
  {
   "cell_type": "code",
   "execution_count": 1,
   "metadata": {
    "collapsed": true
   },
   "outputs": [],
   "source": [
    "# import python's csv module to open a csv file\n",
    "import csv"
   ]
  },
  {
   "cell_type": "code",
   "execution_count": 2,
   "metadata": {
    "collapsed": true
   },
   "outputs": [],
   "source": [
    "# encapsulate the convert to integer functionality inside a new function\n",
    "def extract_int_val(value):\n",
    "    if not value == '':\n",
    "        return int(float(value)) \n",
    "    else:\n",
    "        return None"
   ]
  },
  {
   "cell_type": "code",
   "execution_count": 3,
   "metadata": {
    "collapsed": true
   },
   "outputs": [],
   "source": [
    "# create a new function to replace spaces, forward slashes and commas with underscores and convert the \n",
    "# neighborhood name to uppercase letters.\n",
    "def clean_neighborhood(neighborhood_name):\n",
    "    # you can daisy chain multiple string.replace() methods\n",
    "    return neighborhood_name.replace('/', '_').replace(',', '_').replace(' ', '_').upper()"
   ]
  },
  {
   "cell_type": "code",
   "execution_count": 4,
   "metadata": {
    "collapsed": false
   },
   "outputs": [
    {
     "name": "stdout",
     "output_type": "stream",
     "text": [
      "['date', 'title', 'neighborhood', 'sqft', 'price', 'bedrooms', 'longitude', 'latitude']\n"
     ]
    }
   ],
   "source": [
    "with open('rents_full.csv', 'rU') as csvfile:\n",
    "    csv_db = csv.DictReader(csvfile)\n",
    "    print csv_db.fieldnames"
   ]
  },
  {
   "cell_type": "code",
   "execution_count": 5,
   "metadata": {
    "collapsed": false
   },
   "outputs": [],
   "source": [
    "prices = []\n",
    "bedrooms = []\n",
    "sqFootage = []\n",
    "neighborhoods = []\n",
    "\n",
    "with open('rents_full.csv', 'rU') as csvfile:\n",
    "    csv_db = csv.DictReader(csvfile)\n",
    "    for row in csv_db:\n",
    "        neighborhood = clean_neighborhood(row['neighborhood']) # extracts neighborhood value\n",
    "        price = extract_int_val(row['price']) # extract the prices\n",
    "        bedroom = extract_int_val(row['bedrooms']) # extract the number of bedrooms\n",
    "        sqft = extract_int_val(row['sqft']) # extract the square footage\n",
    "        prices.append(price) #append the price to the list of prices\n",
    "        bedrooms.append(bedroom) # append the no. bedrooms to the list of bedrooms\n",
    "        sqFootage.append(sqft) # append the sqfootage to the list of square ft.\n",
    "        neighborhoods.append(neighborhood)"
   ]
  },
  {
   "cell_type": "code",
   "execution_count": 6,
   "metadata": {
    "collapsed": true
   },
   "outputs": [],
   "source": [
    "# The following function determines the maximum value, minimum value and the mean of a list\n",
    "def findMaxMinMean(l, variable):\n",
    "    max = l[0] # initialize the first value of the list as the maximum value\n",
    "    min = l[0] # initialize the first value of the list as the minimum value\n",
    "    sum = 0 # intialize the sum to zero, counts the number of elements evaluated in list\n",
    "    countNans = 0\n",
    "    for i in range(len(l)): # variable i takes on indicies for all values in the list\n",
    "        if not isinstance(l[i], int):\n",
    "            countNans += 1\n",
    "        else:\n",
    "            if l[i] > max:\n",
    "                max = l[i] # if number is greater than max, it displaces the maximum value\n",
    "            if l[i] < min:\n",
    "                min = l[i] # if number is less than min, it displaces the minimum value\n",
    "            sum += l[i]  # the sum variable is incremented by the value at position i.\n",
    "    mean = sum*1.0/(len(l)-countNans) # determines the mean as a fraction of the sum of values added divided by only\n",
    "                                    #values included in the sum.\n",
    "    print 'mean '+variable+ ' is ' + str(round(mean, 2)) # rounding off the mean value to 2 decimal places\n",
    "    print 'minimum '+variable+ ' is ' + str(min)\n",
    "    print 'maximum '+variable+ ' is ' + str(max)"
   ]
  },
  {
   "cell_type": "code",
   "execution_count": 7,
   "metadata": {
    "collapsed": false
   },
   "outputs": [
    {
     "name": "stdout",
     "output_type": "stream",
     "text": [
      "mean price is 2762.08\n",
      "minimum price is 32\n",
      "maximum price is 15000\n"
     ]
    }
   ],
   "source": [
    "# For the rent price, the mean, minimum and maximum is given as;\n",
    "findMaxMinMean(prices, 'price')"
   ]
  },
  {
   "cell_type": "code",
   "execution_count": 8,
   "metadata": {
    "collapsed": false
   },
   "outputs": [
    {
     "name": "stdout",
     "output_type": "stream",
     "text": [
      "mean number of bedrooms is 1.98\n",
      "minimum number of bedrooms is 1\n",
      "maximum number of bedrooms is 8\n"
     ]
    }
   ],
   "source": [
    "# For the number of bedrooms, the mean, minimum and maximum is given as;\n",
    "findMaxMinMean(bedrooms, 'number of bedrooms')"
   ]
  },
  {
   "cell_type": "code",
   "execution_count": 9,
   "metadata": {
    "collapsed": false
   },
   "outputs": [
    {
     "name": "stdout",
     "output_type": "stream",
     "text": [
      "mean square footage is 1151.86\n",
      "minimum square footage is 250\n",
      "maximum square footage is 5025\n"
     ]
    }
   ],
   "source": [
    "# For the number of bedrooms, the mean, minimum and maximum is given as;\n",
    "findMaxMinMean(sqFootage, 'square footage')"
   ]
  },
  {
   "cell_type": "code",
   "execution_count": 10,
   "metadata": {
    "collapsed": false
   },
   "outputs": [
    {
     "name": "stdout",
     "output_type": "stream",
     "text": [
      "FOSTER_CITY\n",
      "PALO_ALTO\n",
      "BRISBANE\n",
      "PALO_ALTO\n",
      "SAN_MATEO\n",
      "SANTA_CLARA\n",
      "SAN_JOSE_SOUTH\n",
      "SUNNYVALE\n",
      "INNER_SUNSET___UCSF\n",
      "RICHMOND___SEACLIFF\n",
      "SOMA___SOUTH_BEACH\n",
      "DUBLIN___PLEASANTON___LIVERMORE\n",
      "CONCORD___PLEASANT_HILL___MARTINEZ\n",
      "HERCULES__PINOLE__SAN_PABLO__EL_SOB\n",
      "CORTE_MADERA\n"
     ]
    }
   ],
   "source": [
    "# Printing the first 15 elements of neighborhood list\n",
    "for val in neighborhoods[:15]: # creates a sub-list of the neighborhoods list and prints all the elements \n",
    "    print val"
   ]
  }
 ],
 "metadata": {
  "kernelspec": {
   "display_name": "Python 2",
   "language": "python",
   "name": "python2"
  },
  "language_info": {
   "codemirror_mode": {
    "name": "ipython",
    "version": 2
   },
   "file_extension": ".py",
   "mimetype": "text/x-python",
   "name": "python",
   "nbconvert_exporter": "python",
   "pygments_lexer": "ipython2",
   "version": "2.7.9"
  }
 },
 "nbformat": 4,
 "nbformat_minor": 0
}
