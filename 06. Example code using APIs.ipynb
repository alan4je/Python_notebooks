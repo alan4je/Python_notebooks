{
 "cells": [
  {
   "cell_type": "markdown",
   "metadata": {},
   "source": [
    "# Assigment 6: APIs\n",
    "\n",
    "I used the SF OpenData portal API to upload the SF Garage and Lot offstreet parking. The following code details the extraction and importation of the dataset."
   ]
  },
  {
   "cell_type": "code",
   "execution_count": 1,
   "metadata": {
    "collapsed": true
   },
   "outputs": [],
   "source": [
    "import pandas as pd\n",
    "import urllib\n",
    "import json"
   ]
  },
  {
   "cell_type": "code",
   "execution_count": 2,
   "metadata": {
    "collapsed": false
   },
   "outputs": [],
   "source": [
    "# used endpoint for Off-street parking lots and parking garages\n",
    "endpoint_url = 'https://data.sfgov.org/resource/uupn-yfaw.json'\n",
    "\n",
    "# open connection to the URL\n",
    "connection = urllib.urlopen(endpoint_url)\n",
    "\n",
    "# downloading the results\n",
    "results = connection.read()\n",
    "\n",
    "# parsing the string into a Python data structure\n",
    "data = json.loads(results)"
   ]
  },
  {
   "cell_type": "code",
   "execution_count": 3,
   "metadata": {
    "collapsed": false
   },
   "outputs": [
    {
     "data": {
      "text/plain": [
       "{u'address': u'2110 Market St',\n",
       " u'garorlot': u'L',\n",
       " u'landusetyp': u'restaurant',\n",
       " u'location_1': {u'latitude': u'37.767378',\n",
       "  u'longitude': u'-122.429344',\n",
       "  u'needs_recoding': False},\n",
       " u'mccap': u'0',\n",
       " u'owner': u'Private',\n",
       " u'primetype': u'PPA',\n",
       " u'regcap': u'13',\n",
       " u'secondtype': u' ',\n",
       " u'valetcap': u'0'}"
      ]
     },
     "execution_count": 3,
     "metadata": {},
     "output_type": "execute_result"
    }
   ],
   "source": [
    "# Checking to see how the data looks like..\n",
    "data[0]"
   ]
  },
  {
   "cell_type": "code",
   "execution_count": 4,
   "metadata": {
    "collapsed": false
   },
   "outputs": [
    {
     "data": {
      "text/html": [
       "<div>\n",
       "<table border=\"1\" class=\"dataframe\">\n",
       "  <thead>\n",
       "    <tr style=\"text-align: right;\">\n",
       "      <th></th>\n",
       "      <th>address</th>\n",
       "      <th>garorlot</th>\n",
       "      <th>landusetyp</th>\n",
       "      <th>location_1</th>\n",
       "      <th>mccap</th>\n",
       "      <th>owner</th>\n",
       "      <th>primetype</th>\n",
       "      <th>regcap</th>\n",
       "      <th>secondtype</th>\n",
       "      <th>valetcap</th>\n",
       "    </tr>\n",
       "  </thead>\n",
       "  <tbody>\n",
       "    <tr>\n",
       "      <th>0</th>\n",
       "      <td>2110 Market St</td>\n",
       "      <td>L</td>\n",
       "      <td>restaurant</td>\n",
       "      <td>{u'latitude': u'37.767378', u'needs_recoding':...</td>\n",
       "      <td>0</td>\n",
       "      <td>Private</td>\n",
       "      <td>PPA</td>\n",
       "      <td>13</td>\n",
       "      <td></td>\n",
       "      <td>0</td>\n",
       "    </tr>\n",
       "    <tr>\n",
       "      <th>1</th>\n",
       "      <td>993 Potrero</td>\n",
       "      <td>L</td>\n",
       "      <td></td>\n",
       "      <td>{u'latitude': u'37.757272', u'needs_recoding':...</td>\n",
       "      <td>0</td>\n",
       "      <td>SFMTA</td>\n",
       "      <td>PPA</td>\n",
       "      <td>34</td>\n",
       "      <td></td>\n",
       "      <td>0</td>\n",
       "    </tr>\n",
       "    <tr>\n",
       "      <th>2</th>\n",
       "      <td>601 Terry A Francois Blvd</td>\n",
       "      <td>L</td>\n",
       "      <td></td>\n",
       "      <td>{u'latitude': u'37.770135', u'needs_recoding':...</td>\n",
       "      <td>0</td>\n",
       "      <td>Port of SF</td>\n",
       "      <td>PPA</td>\n",
       "      <td>72</td>\n",
       "      <td></td>\n",
       "      <td>0</td>\n",
       "    </tr>\n",
       "    <tr>\n",
       "      <th>3</th>\n",
       "      <td>11 SOUTH VAN NESS</td>\n",
       "      <td>G</td>\n",
       "      <td></td>\n",
       "      <td>{u'latitude': u'37.77415', u'needs_recoding': ...</td>\n",
       "      <td>0</td>\n",
       "      <td>Private</td>\n",
       "      <td>PHO</td>\n",
       "      <td>130</td>\n",
       "      <td>CPO</td>\n",
       "      <td>0</td>\n",
       "    </tr>\n",
       "    <tr>\n",
       "      <th>4</th>\n",
       "      <td>101 CALIFORNIA ST</td>\n",
       "      <td>G</td>\n",
       "      <td></td>\n",
       "      <td>{u'latitude': u'37.793243', u'needs_recoding':...</td>\n",
       "      <td>0</td>\n",
       "      <td>Private</td>\n",
       "      <td>PPA</td>\n",
       "      <td>250</td>\n",
       "      <td></td>\n",
       "      <td>0</td>\n",
       "    </tr>\n",
       "  </tbody>\n",
       "</table>\n",
       "</div>"
      ],
      "text/plain": [
       "                     address garorlot  landusetyp  \\\n",
       "0             2110 Market St        L  restaurant   \n",
       "1                993 Potrero        L               \n",
       "2  601 Terry A Francois Blvd        L               \n",
       "3          11 SOUTH VAN NESS        G               \n",
       "4          101 CALIFORNIA ST        G               \n",
       "\n",
       "                                          location_1 mccap       owner  \\\n",
       "0  {u'latitude': u'37.767378', u'needs_recoding':...     0     Private   \n",
       "1  {u'latitude': u'37.757272', u'needs_recoding':...     0       SFMTA   \n",
       "2  {u'latitude': u'37.770135', u'needs_recoding':...     0  Port of SF   \n",
       "3  {u'latitude': u'37.77415', u'needs_recoding': ...     0     Private   \n",
       "4  {u'latitude': u'37.793243', u'needs_recoding':...     0     Private   \n",
       "\n",
       "  primetype regcap secondtype valetcap  \n",
       "0       PPA     13                   0  \n",
       "1       PPA     34                   0  \n",
       "2       PPA     72                   0  \n",
       "3       PHO    130        CPO        0  \n",
       "4       PPA    250                   0  "
      ]
     },
     "execution_count": 4,
     "metadata": {},
     "output_type": "execute_result"
    }
   ],
   "source": [
    "# code turns the json data into a dataframe\n",
    "df = pd.DataFrame(data)\n",
    "df.head()"
   ]
  },
  {
   "cell_type": "code",
   "execution_count": 5,
   "metadata": {
    "collapsed": true
   },
   "outputs": [],
   "source": [
    "# Extracting the coordinates from the location attributes.\n",
    "df['latitude'] = df['location_1'].apply(lambda x: x['latitude'])\n",
    "df['longitude'] = df['location_1'].apply(lambda x: x['longitude'])"
   ]
  },
  {
   "cell_type": "code",
   "execution_count": 6,
   "metadata": {
    "collapsed": false
   },
   "outputs": [
    {
     "name": "stdout",
     "output_type": "stream",
     "text": [
      "1000\n"
     ]
    },
    {
     "data": {
      "text/html": [
       "<div>\n",
       "<table border=\"1\" class=\"dataframe\">\n",
       "  <thead>\n",
       "    <tr style=\"text-align: right;\">\n",
       "      <th></th>\n",
       "      <th>address</th>\n",
       "      <th>garorlot</th>\n",
       "      <th>landusetyp</th>\n",
       "      <th>location_1</th>\n",
       "      <th>mccap</th>\n",
       "      <th>owner</th>\n",
       "      <th>primetype</th>\n",
       "      <th>regcap</th>\n",
       "      <th>secondtype</th>\n",
       "      <th>valetcap</th>\n",
       "      <th>latitude</th>\n",
       "      <th>longitude</th>\n",
       "    </tr>\n",
       "  </thead>\n",
       "  <tbody>\n",
       "    <tr>\n",
       "      <th>0</th>\n",
       "      <td>2110 Market St</td>\n",
       "      <td>L</td>\n",
       "      <td>restaurant</td>\n",
       "      <td>{u'latitude': u'37.767378', u'needs_recoding':...</td>\n",
       "      <td>0</td>\n",
       "      <td>Private</td>\n",
       "      <td>PPA</td>\n",
       "      <td>13</td>\n",
       "      <td></td>\n",
       "      <td>0</td>\n",
       "      <td>37.767378</td>\n",
       "      <td>-122.429344</td>\n",
       "    </tr>\n",
       "    <tr>\n",
       "      <th>1</th>\n",
       "      <td>993 Potrero</td>\n",
       "      <td>L</td>\n",
       "      <td></td>\n",
       "      <td>{u'latitude': u'37.757272', u'needs_recoding':...</td>\n",
       "      <td>0</td>\n",
       "      <td>SFMTA</td>\n",
       "      <td>PPA</td>\n",
       "      <td>34</td>\n",
       "      <td></td>\n",
       "      <td>0</td>\n",
       "      <td>37.757272</td>\n",
       "      <td>-122.40632</td>\n",
       "    </tr>\n",
       "    <tr>\n",
       "      <th>2</th>\n",
       "      <td>601 Terry A Francois Blvd</td>\n",
       "      <td>L</td>\n",
       "      <td></td>\n",
       "      <td>{u'latitude': u'37.770135', u'needs_recoding':...</td>\n",
       "      <td>0</td>\n",
       "      <td>Port of SF</td>\n",
       "      <td>PPA</td>\n",
       "      <td>72</td>\n",
       "      <td></td>\n",
       "      <td>0</td>\n",
       "      <td>37.770135</td>\n",
       "      <td>-122.385801</td>\n",
       "    </tr>\n",
       "    <tr>\n",
       "      <th>3</th>\n",
       "      <td>11 SOUTH VAN NESS</td>\n",
       "      <td>G</td>\n",
       "      <td></td>\n",
       "      <td>{u'latitude': u'37.77415', u'needs_recoding': ...</td>\n",
       "      <td>0</td>\n",
       "      <td>Private</td>\n",
       "      <td>PHO</td>\n",
       "      <td>130</td>\n",
       "      <td>CPO</td>\n",
       "      <td>0</td>\n",
       "      <td>37.77415</td>\n",
       "      <td>-122.418402</td>\n",
       "    </tr>\n",
       "    <tr>\n",
       "      <th>4</th>\n",
       "      <td>101 CALIFORNIA ST</td>\n",
       "      <td>G</td>\n",
       "      <td></td>\n",
       "      <td>{u'latitude': u'37.793243', u'needs_recoding':...</td>\n",
       "      <td>0</td>\n",
       "      <td>Private</td>\n",
       "      <td>PPA</td>\n",
       "      <td>250</td>\n",
       "      <td></td>\n",
       "      <td>0</td>\n",
       "      <td>37.793243</td>\n",
       "      <td>-122.397495</td>\n",
       "    </tr>\n",
       "  </tbody>\n",
       "</table>\n",
       "</div>"
      ],
      "text/plain": [
       "                     address garorlot  landusetyp  \\\n",
       "0             2110 Market St        L  restaurant   \n",
       "1                993 Potrero        L               \n",
       "2  601 Terry A Francois Blvd        L               \n",
       "3          11 SOUTH VAN NESS        G               \n",
       "4          101 CALIFORNIA ST        G               \n",
       "\n",
       "                                          location_1 mccap       owner  \\\n",
       "0  {u'latitude': u'37.767378', u'needs_recoding':...     0     Private   \n",
       "1  {u'latitude': u'37.757272', u'needs_recoding':...     0       SFMTA   \n",
       "2  {u'latitude': u'37.770135', u'needs_recoding':...     0  Port of SF   \n",
       "3  {u'latitude': u'37.77415', u'needs_recoding': ...     0     Private   \n",
       "4  {u'latitude': u'37.793243', u'needs_recoding':...     0     Private   \n",
       "\n",
       "  primetype regcap secondtype valetcap   latitude    longitude  \n",
       "0       PPA     13                   0  37.767378  -122.429344  \n",
       "1       PPA     34                   0  37.757272   -122.40632  \n",
       "2       PPA     72                   0  37.770135  -122.385801  \n",
       "3       PHO    130        CPO        0   37.77415  -122.418402  \n",
       "4       PPA    250                   0  37.793243  -122.397495  "
      ]
     },
     "execution_count": 6,
     "metadata": {},
     "output_type": "execute_result"
    }
   ],
   "source": [
    "print len(df) # size of the dataset\n",
    "df.head()"
   ]
  },
  {
   "cell_type": "code",
   "execution_count": 7,
   "metadata": {
    "collapsed": false
   },
   "outputs": [
    {
     "data": {
      "text/plain": [
       "array([u'restaurant', u' ', u'grocery', u'religious', u'service',\n",
       "       u'medical', u'automotive', u'office', u'entertainment', u'hotel',\n",
       "       u'retail', u'government'], dtype=object)"
      ]
     },
     "execution_count": 7,
     "metadata": {},
     "output_type": "execute_result"
    }
   ],
   "source": [
    "#Checking the unique landuse types near the parking garages and/or lots\n",
    "df.landusetyp.unique()"
   ]
  },
  {
   "cell_type": "code",
   "execution_count": 8,
   "metadata": {
    "collapsed": false
   },
   "outputs": [
    {
     "name": "stdout",
     "output_type": "stream",
     "text": [
      "16.3\n"
     ]
    }
   ],
   "source": [
    "# Checking for the percentage of rows with landuse type\n",
    "print len(df[df.landusetyp != ' '])* 100.0/len(df)"
   ]
  },
  {
   "cell_type": "code",
   "execution_count": 9,
   "metadata": {
    "collapsed": false
   },
   "outputs": [],
   "source": [
    "# Given that only 16% of the rows have this variable, I decided to remove that variable\n",
    "ds = df[['address', 'garorlot', 'owner', 'primetype', 'regcap', 'valetcap', 'latitude', 'longitude']]"
   ]
  },
  {
   "cell_type": "code",
   "execution_count": 10,
   "metadata": {
    "collapsed": false
   },
   "outputs": [
    {
     "data": {
      "text/html": [
       "<div>\n",
       "<table border=\"1\" class=\"dataframe\">\n",
       "  <thead>\n",
       "    <tr style=\"text-align: right;\">\n",
       "      <th></th>\n",
       "      <th>address</th>\n",
       "      <th>garorlot</th>\n",
       "      <th>owner</th>\n",
       "      <th>primetype</th>\n",
       "      <th>regcap</th>\n",
       "      <th>valetcap</th>\n",
       "      <th>latitude</th>\n",
       "      <th>longitude</th>\n",
       "    </tr>\n",
       "  </thead>\n",
       "  <tbody>\n",
       "    <tr>\n",
       "      <th>count</th>\n",
       "      <td>1000</td>\n",
       "      <td>1000</td>\n",
       "      <td>1000</td>\n",
       "      <td>1000</td>\n",
       "      <td>1000</td>\n",
       "      <td>1000</td>\n",
       "      <td>1000</td>\n",
       "      <td>1000</td>\n",
       "    </tr>\n",
       "    <tr>\n",
       "      <th>unique</th>\n",
       "      <td>988</td>\n",
       "      <td>4</td>\n",
       "      <td>24</td>\n",
       "      <td>5</td>\n",
       "      <td>258</td>\n",
       "      <td>25</td>\n",
       "      <td>990</td>\n",
       "      <td>990</td>\n",
       "    </tr>\n",
       "    <tr>\n",
       "      <th>top</th>\n",
       "      <td></td>\n",
       "      <td>L</td>\n",
       "      <td>Private</td>\n",
       "      <td>PPA</td>\n",
       "      <td>40</td>\n",
       "      <td>0</td>\n",
       "      <td>37.79811</td>\n",
       "      <td>-122.397471</td>\n",
       "    </tr>\n",
       "    <tr>\n",
       "      <th>freq</th>\n",
       "      <td>5</td>\n",
       "      <td>649</td>\n",
       "      <td>829</td>\n",
       "      <td>484</td>\n",
       "      <td>35</td>\n",
       "      <td>957</td>\n",
       "      <td>2</td>\n",
       "      <td>2</td>\n",
       "    </tr>\n",
       "  </tbody>\n",
       "</table>\n",
       "</div>"
      ],
      "text/plain": [
       "       address garorlot    owner primetype regcap valetcap  latitude  \\\n",
       "count     1000     1000     1000      1000   1000     1000      1000   \n",
       "unique     988        4       24         5    258       25       990   \n",
       "top                   L  Private       PPA     40        0  37.79811   \n",
       "freq         5      649      829       484     35      957         2   \n",
       "\n",
       "          longitude  \n",
       "count          1000  \n",
       "unique          990  \n",
       "top     -122.397471  \n",
       "freq              2  "
      ]
     },
     "execution_count": 10,
     "metadata": {},
     "output_type": "execute_result"
    }
   ],
   "source": [
    "ds.describe()"
   ]
  },
  {
   "cell_type": "code",
   "execution_count": 11,
   "metadata": {
    "collapsed": false
   },
   "outputs": [
    {
     "data": {
      "text/plain": [
       "array([u'Private', u'SFMTA', u'Port of SF', u'RPD', u'UCSF', u'SFRA',\n",
       "       u'GGNRA', u'GG Bridge Authority', u'Presidio', u'UC', u'SFSU',\n",
       "       u'BART', u'Caltrans', u'Customs', u'SFPUC', u'SFPD', u'USPS',\n",
       "       u'City College', u'LHH', u'SFGH', u'SFUSD', u'State of CA',\n",
       "       u'SF Sheriff', u'DMV'], dtype=object)"
      ]
     },
     "execution_count": 11,
     "metadata": {},
     "output_type": "execute_result"
    }
   ],
   "source": [
    "ds.owner.unique()"
   ]
  },
  {
   "cell_type": "code",
   "execution_count": 12,
   "metadata": {
    "collapsed": false
   },
   "outputs": [
    {
     "data": {
      "text/plain": [
       "array([u'PPA', u'PHO', u'CPO', u' ', u'CGO'], dtype=object)"
      ]
     },
     "execution_count": 12,
     "metadata": {},
     "output_type": "execute_result"
    }
   ],
   "source": [
    "ds.primetype.unique()"
   ]
  },
  {
   "cell_type": "code",
   "execution_count": 13,
   "metadata": {
    "collapsed": false
   },
   "outputs": [
    {
     "name": "stdout",
     "output_type": "stream",
     "text": [
      "0.2\n"
     ]
    }
   ],
   "source": [
    "# Checking for the percentage of rows without primetype code\n",
    "print len(df[df.primetype == ' '])* 100.0/len(df)"
   ]
  },
  {
   "cell_type": "code",
   "execution_count": 14,
   "metadata": {
    "collapsed": false
   },
   "outputs": [
    {
     "data": {
      "text/plain": [
       "array([u'L', u'G', u' ', u'GL'], dtype=object)"
      ]
     },
     "execution_count": 14,
     "metadata": {},
     "output_type": "execute_result"
    }
   ],
   "source": [
    "ds.garorlot.unique()"
   ]
  },
  {
   "cell_type": "code",
   "execution_count": 15,
   "metadata": {
    "collapsed": false
   },
   "outputs": [
    {
     "name": "stdout",
     "output_type": "stream",
     "text": [
      "3.1\n"
     ]
    }
   ],
   "source": [
    "# Checking for the percentage of rows without specified garage or lot\n",
    "print len(df[df.garorlot == ' '])* 100.0/len(df)"
   ]
  },
  {
   "cell_type": "code",
   "execution_count": 16,
   "metadata": {
    "collapsed": false
   },
   "outputs": [
    {
     "name": "stderr",
     "output_type": "stream",
     "text": [
      "/Users/Alan/Library/Enthought/Canopy_64bit/User/lib/python2.7/site-packages/pandas/core/indexing.py:490: SettingWithCopyWarning: \n",
      "A value is trying to be set on a copy of a slice from a DataFrame.\n",
      "Try using .loc[row_indexer,col_indexer] = value instead\n",
      "\n",
      "See the the caveats in the documentation: http://pandas.pydata.org/pandas-docs/stable/indexing.html#indexing-view-versus-copy\n",
      "  self.obj[item_labels[indexer[info_axis]]] = value\n",
      "/Users/Alan/Library/Enthought/Canopy_64bit/User/lib/python2.7/site-packages/pandas/core/indexing.py:415: SettingWithCopyWarning: \n",
      "A value is trying to be set on a copy of a slice from a DataFrame.\n",
      "Try using .loc[row_indexer,col_indexer] = value instead\n",
      "\n",
      "See the the caveats in the documentation: http://pandas.pydata.org/pandas-docs/stable/indexing.html#indexing-view-versus-copy\n",
      "  self.obj[item] = s\n"
     ]
    }
   ],
   "source": [
    "ds.loc[:,'regcap'] = ds['regcap'].astype('float64').astype('int')\n",
    "ds.loc[:,'valetcap'] = ds['valetcap'].astype('float64').astype('int')\n",
    "ds.loc[:,'latitude'] = ds['latitude'].astype('float64')\n",
    "ds.loc[:,'longitude'] = ds['longitude'].astype('float64')"
   ]
  },
  {
   "cell_type": "code",
   "execution_count": 17,
   "metadata": {
    "collapsed": false
   },
   "outputs": [
    {
     "name": "stderr",
     "output_type": "stream",
     "text": [
      "/Users/Alan/Library/Enthought/Canopy_64bit/User/lib/python2.7/site-packages/IPython/kernel/__main__.py:1: SettingWithCopyWarning: \n",
      "A value is trying to be set on a copy of a slice from a DataFrame.\n",
      "Try using .loc[row_indexer,col_indexer] = value instead\n",
      "\n",
      "See the the caveats in the documentation: http://pandas.pydata.org/pandas-docs/stable/indexing.html#indexing-view-versus-copy\n",
      "  if __name__ == '__main__':\n"
     ]
    }
   ],
   "source": [
    "ds['address'] = df['address'].apply(lambda text: text.encode('utf-8'))"
   ]
  },
  {
   "cell_type": "code",
   "execution_count": 18,
   "metadata": {
    "collapsed": false
   },
   "outputs": [
    {
     "data": {
      "text/html": [
       "<div>\n",
       "<table border=\"1\" class=\"dataframe\">\n",
       "  <thead>\n",
       "    <tr style=\"text-align: right;\">\n",
       "      <th></th>\n",
       "      <th>regcap</th>\n",
       "      <th>valetcap</th>\n",
       "      <th>latitude</th>\n",
       "      <th>longitude</th>\n",
       "    </tr>\n",
       "  </thead>\n",
       "  <tbody>\n",
       "    <tr>\n",
       "      <th>count</th>\n",
       "      <td>1000.000000</td>\n",
       "      <td>1000.000000</td>\n",
       "      <td>1000.000000</td>\n",
       "      <td>1000.000000</td>\n",
       "    </tr>\n",
       "    <tr>\n",
       "      <th>mean</th>\n",
       "      <td>137.294000</td>\n",
       "      <td>3.297000</td>\n",
       "      <td>37.773081</td>\n",
       "      <td>-122.418183</td>\n",
       "    </tr>\n",
       "    <tr>\n",
       "      <th>std</th>\n",
       "      <td>361.051209</td>\n",
       "      <td>22.624824</td>\n",
       "      <td>0.022588</td>\n",
       "      <td>0.025672</td>\n",
       "    </tr>\n",
       "    <tr>\n",
       "      <th>min</th>\n",
       "      <td>0.000000</td>\n",
       "      <td>0.000000</td>\n",
       "      <td>37.708475</td>\n",
       "      <td>-122.505057</td>\n",
       "    </tr>\n",
       "    <tr>\n",
       "      <th>25%</th>\n",
       "      <td>24.000000</td>\n",
       "      <td>0.000000</td>\n",
       "      <td>37.761489</td>\n",
       "      <td>-122.430397</td>\n",
       "    </tr>\n",
       "    <tr>\n",
       "      <th>50%</th>\n",
       "      <td>56.000000</td>\n",
       "      <td>0.000000</td>\n",
       "      <td>37.779071</td>\n",
       "      <td>-122.411403</td>\n",
       "    </tr>\n",
       "    <tr>\n",
       "      <th>75%</th>\n",
       "      <td>132.000000</td>\n",
       "      <td>0.000000</td>\n",
       "      <td>37.788860</td>\n",
       "      <td>-122.399540</td>\n",
       "    </tr>\n",
       "    <tr>\n",
       "      <th>max</th>\n",
       "      <td>9000.000000</td>\n",
       "      <td>430.000000</td>\n",
       "      <td>37.809485</td>\n",
       "      <td>-122.371834</td>\n",
       "    </tr>\n",
       "  </tbody>\n",
       "</table>\n",
       "</div>"
      ],
      "text/plain": [
       "            regcap     valetcap     latitude    longitude\n",
       "count  1000.000000  1000.000000  1000.000000  1000.000000\n",
       "mean    137.294000     3.297000    37.773081  -122.418183\n",
       "std     361.051209    22.624824     0.022588     0.025672\n",
       "min       0.000000     0.000000    37.708475  -122.505057\n",
       "25%      24.000000     0.000000    37.761489  -122.430397\n",
       "50%      56.000000     0.000000    37.779071  -122.411403\n",
       "75%     132.000000     0.000000    37.788860  -122.399540\n",
       "max    9000.000000   430.000000    37.809485  -122.371834"
      ]
     },
     "execution_count": 18,
     "metadata": {},
     "output_type": "execute_result"
    }
   ],
   "source": [
    "ds[['regcap', 'valetcap', 'latitude', 'longitude']].describe()"
   ]
  },
  {
   "cell_type": "code",
   "execution_count": 19,
   "metadata": {
    "collapsed": false
   },
   "outputs": [
    {
     "data": {
      "text/html": [
       "<div>\n",
       "<table border=\"1\" class=\"dataframe\">\n",
       "  <thead>\n",
       "    <tr style=\"text-align: right;\">\n",
       "      <th></th>\n",
       "      <th>address</th>\n",
       "      <th>garorlot</th>\n",
       "      <th>owner</th>\n",
       "      <th>primetype</th>\n",
       "      <th>regcap</th>\n",
       "      <th>valetcap</th>\n",
       "      <th>latitude</th>\n",
       "      <th>longitude</th>\n",
       "    </tr>\n",
       "  </thead>\n",
       "  <tbody>\n",
       "    <tr>\n",
       "      <th>0</th>\n",
       "      <td>2110 Market St</td>\n",
       "      <td>L</td>\n",
       "      <td>Private</td>\n",
       "      <td>PPA</td>\n",
       "      <td>13</td>\n",
       "      <td>0</td>\n",
       "      <td>37.767378</td>\n",
       "      <td>-122.429344</td>\n",
       "    </tr>\n",
       "    <tr>\n",
       "      <th>1</th>\n",
       "      <td>993 Potrero</td>\n",
       "      <td>L</td>\n",
       "      <td>SFMTA</td>\n",
       "      <td>PPA</td>\n",
       "      <td>34</td>\n",
       "      <td>0</td>\n",
       "      <td>37.757272</td>\n",
       "      <td>-122.406320</td>\n",
       "    </tr>\n",
       "    <tr>\n",
       "      <th>2</th>\n",
       "      <td>601 Terry A Francois Blvd</td>\n",
       "      <td>L</td>\n",
       "      <td>Port of SF</td>\n",
       "      <td>PPA</td>\n",
       "      <td>72</td>\n",
       "      <td>0</td>\n",
       "      <td>37.770135</td>\n",
       "      <td>-122.385801</td>\n",
       "    </tr>\n",
       "    <tr>\n",
       "      <th>3</th>\n",
       "      <td>11 SOUTH VAN NESS</td>\n",
       "      <td>G</td>\n",
       "      <td>Private</td>\n",
       "      <td>PHO</td>\n",
       "      <td>130</td>\n",
       "      <td>0</td>\n",
       "      <td>37.774150</td>\n",
       "      <td>-122.418402</td>\n",
       "    </tr>\n",
       "    <tr>\n",
       "      <th>4</th>\n",
       "      <td>101 CALIFORNIA ST</td>\n",
       "      <td>G</td>\n",
       "      <td>Private</td>\n",
       "      <td>PPA</td>\n",
       "      <td>250</td>\n",
       "      <td>0</td>\n",
       "      <td>37.793243</td>\n",
       "      <td>-122.397495</td>\n",
       "    </tr>\n",
       "  </tbody>\n",
       "</table>\n",
       "</div>"
      ],
      "text/plain": [
       "                     address garorlot       owner primetype  regcap  valetcap  \\\n",
       "0             2110 Market St        L     Private       PPA      13         0   \n",
       "1                993 Potrero        L       SFMTA       PPA      34         0   \n",
       "2  601 Terry A Francois Blvd        L  Port of SF       PPA      72         0   \n",
       "3          11 SOUTH VAN NESS        G     Private       PHO     130         0   \n",
       "4          101 CALIFORNIA ST        G     Private       PPA     250         0   \n",
       "\n",
       "    latitude   longitude  \n",
       "0  37.767378 -122.429344  \n",
       "1  37.757272 -122.406320  \n",
       "2  37.770135 -122.385801  \n",
       "3  37.774150 -122.418402  \n",
       "4  37.793243 -122.397495  "
      ]
     },
     "execution_count": 19,
     "metadata": {},
     "output_type": "execute_result"
    }
   ],
   "source": [
    "ds.head()"
   ]
  },
  {
   "cell_type": "code",
   "execution_count": 20,
   "metadata": {
    "collapsed": false
   },
   "outputs": [],
   "source": [
    "ds.to_csv('OffstParkingSF.csv')"
   ]
  }
 ],
 "metadata": {
  "kernelspec": {
   "display_name": "Python 2",
   "language": "python",
   "name": "python2"
  },
  "language_info": {
   "codemirror_mode": {
    "name": "ipython",
    "version": 2
   },
   "file_extension": ".py",
   "mimetype": "text/x-python",
   "name": "python",
   "nbconvert_exporter": "python",
   "pygments_lexer": "ipython2",
   "version": "2.7.9"
  }
 },
 "nbformat": 4,
 "nbformat_minor": 0
}
