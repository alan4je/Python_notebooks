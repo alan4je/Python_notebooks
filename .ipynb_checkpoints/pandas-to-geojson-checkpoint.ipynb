{
 "cells": [
  {
   "cell_type": "markdown",
   "metadata": {},
   "source": [
    "# Convert a pandas dataframe to geojson for web-mapping"
   ]
  },
  {
   "cell_type": "code",
   "execution_count": 1,
   "metadata": {
    "collapsed": false
   },
   "outputs": [],
   "source": [
    "import pandas as pd, json as json, urllib"
   ]
  },
  {
   "cell_type": "markdown",
   "metadata": {},
   "source": [
    "First download data from the city of Berkeley's API. You can use Socrata's $limit parameter to specify how many rows to grab (otherwise the default is 1,000 rows of data): https://dev.socrata.com/docs/paging.html"
   ]
  },
  {
   "cell_type": "code",
   "execution_count": 2,
   "metadata": {
    "collapsed": true
   },
   "outputs": [],
   "source": [
    "# API endpoint for city of Berkeley's 311 calls\n",
    "endpoint_url = 'https://data.cityofberkeley.info/resource/k489-uv4i.json?$limit=5000'"
   ]
  },
  {
   "cell_type": "code",
   "execution_count": 3,
   "metadata": {
    "collapsed": true
   },
   "outputs": [],
   "source": [
    "# open a connection to the URL\n",
    "connection = urllib.urlopen(endpoint_url)\n",
    "\n",
    "# download the results\n",
    "results = connection.read()\n",
    "\n",
    "# parse the string into a Python data structure\n",
    "data = json.loads(results)"
   ]
  },
  {
   "cell_type": "markdown",
   "metadata": {},
   "source": [
    "Next, turn the json data into a dataframe and clean it up a bit: drop unnecessary columns and any rows that lack lat-long data. We want to make our json file as small as possible (prefer under 5 mb) so that it can be loaded over the Internet to anyone viewing your map, without taking forever to download a huge file."
   ]
  },
  {
   "cell_type": "code",
   "execution_count": 4,
   "metadata": {
    "collapsed": false
   },
   "outputs": [
    {
     "name": "stdout",
     "output_type": "stream",
     "text": [
      "We have 5000 rows\n"
     ]
    },
    {
     "data": {
      "text/plain": [
       "\"[u'apn', u'city', u'indbdate', u'issue_description', u'issue_type', u'latitude', u'location', u'longitude', u'neighborhood_district', u'object_type', u'secondary_issue_type', u'state', u'street_address', u'ticket_closed_date_time', u'ticket_created_date_time', u'ticket_id', u'ticket_status']\""
      ]
     },
     "execution_count": 4,
     "metadata": {},
     "output_type": "execute_result"
    }
   ],
   "source": [
    "# turn the json data into a dataframe and see how many rows and what columns we have\n",
    "df = pd.DataFrame(data)\n",
    "\n",
    "print 'We have {} rows'.format(len(df))\n",
    "str(df.columns.tolist())"
   ]
  },
  {
   "cell_type": "code",
   "execution_count": 5,
   "metadata": {
    "collapsed": true
   },
   "outputs": [],
   "source": [
    "# convert lat-long to floats and change address from ALL CAPS to regular capitalization\n",
    "df['latitude'] = df['latitude'].astype(float)\n",
    "df['longitude'] = df['longitude'].astype(float)\n",
    "df['street_address'] = df['street_address'].str.title()"
   ]
  },
  {
   "cell_type": "code",
   "execution_count": 6,
   "metadata": {
    "collapsed": false
   },
   "outputs": [],
   "source": [
    "# we don't need all those columns - only keep useful ones\n",
    "cols = ['issue_description', 'issue_type', 'latitude', 'longitude', 'street_address', 'ticket_status']\n",
    "df_subset = df[cols]"
   ]
  },
  {
   "cell_type": "code",
   "execution_count": 7,
   "metadata": {
    "collapsed": false
   },
   "outputs": [
    {
     "name": "stdout",
     "output_type": "stream",
     "text": [
      "We have 2341 geotagged rows\n"
     ]
    },
    {
     "data": {
      "text/html": [
       "<div>\n",
       "<table border=\"1\" class=\"dataframe\">\n",
       "  <thead>\n",
       "    <tr style=\"text-align: right;\">\n",
       "      <th></th>\n",
       "      <th>issue_description</th>\n",
       "      <th>issue_type</th>\n",
       "      <th>latitude</th>\n",
       "      <th>longitude</th>\n",
       "      <th>street_address</th>\n",
       "      <th>ticket_status</th>\n",
       "    </tr>\n",
       "  </thead>\n",
       "  <tbody>\n",
       "    <tr>\n",
       "      <th>4991</th>\n",
       "      <td>Residential Bulky Pickup</td>\n",
       "      <td>Refuse and Recycling</td>\n",
       "      <td>37.857347</td>\n",
       "      <td>-122.278136</td>\n",
       "      <td>1537 Stuart St</td>\n",
       "      <td>Closed</td>\n",
       "    </tr>\n",
       "    <tr>\n",
       "      <th>4993</th>\n",
       "      <td>Residential Missed Pickup Integration</td>\n",
       "      <td>Refuse and Recycling</td>\n",
       "      <td>37.879342</td>\n",
       "      <td>-122.260038</td>\n",
       "      <td>2540 Cedar St</td>\n",
       "      <td>Closed</td>\n",
       "    </tr>\n",
       "    <tr>\n",
       "      <th>4994</th>\n",
       "      <td>Miscellaneous Service Request</td>\n",
       "      <td>General Questions/information</td>\n",
       "      <td>37.855705</td>\n",
       "      <td>-122.287036</td>\n",
       "      <td>2734 Wallace St</td>\n",
       "      <td>Closed</td>\n",
       "    </tr>\n",
       "    <tr>\n",
       "      <th>4996</th>\n",
       "      <td>Illegal Dumping - City Property</td>\n",
       "      <td>Streets, Utilities, and Transportation</td>\n",
       "      <td>37.862160</td>\n",
       "      <td>-122.272241</td>\n",
       "      <td>2554 M L King Jr Way</td>\n",
       "      <td>Closed</td>\n",
       "    </tr>\n",
       "    <tr>\n",
       "      <th>4997</th>\n",
       "      <td>Commercial Service Day Change</td>\n",
       "      <td>Refuse and Recycling</td>\n",
       "      <td>37.867434</td>\n",
       "      <td>-122.252197</td>\n",
       "      <td>2400 Piedmont Ave</td>\n",
       "      <td>Closed</td>\n",
       "    </tr>\n",
       "  </tbody>\n",
       "</table>\n",
       "</div>"
      ],
      "text/plain": [
       "                          issue_description  \\\n",
       "4991               Residential Bulky Pickup   \n",
       "4993  Residential Missed Pickup Integration   \n",
       "4994          Miscellaneous Service Request   \n",
       "4996        Illegal Dumping - City Property   \n",
       "4997          Commercial Service Day Change   \n",
       "\n",
       "                                  issue_type   latitude   longitude  \\\n",
       "4991                    Refuse and Recycling  37.857347 -122.278136   \n",
       "4993                    Refuse and Recycling  37.879342 -122.260038   \n",
       "4994           General Questions/information  37.855705 -122.287036   \n",
       "4996  Streets, Utilities, and Transportation  37.862160 -122.272241   \n",
       "4997                    Refuse and Recycling  37.867434 -122.252197   \n",
       "\n",
       "            street_address ticket_status  \n",
       "4991        1537 Stuart St        Closed  \n",
       "4993         2540 Cedar St        Closed  \n",
       "4994       2734 Wallace St        Closed  \n",
       "4996  2554 M L King Jr Way        Closed  \n",
       "4997     2400 Piedmont Ave        Closed  "
      ]
     },
     "execution_count": 7,
     "metadata": {},
     "output_type": "execute_result"
    }
   ],
   "source": [
    "# drop any rows that lack lat/long data\n",
    "df_geo = df_subset.dropna(subset=['latitude', 'longitude'], axis=0, inplace=False)\n",
    "\n",
    "print 'We have {} geotagged rows'.format(len(df_geo))\n",
    "df_geo.tail()"
   ]
  },
  {
   "cell_type": "code",
   "execution_count": 8,
   "metadata": {
    "collapsed": false
   },
   "outputs": [
    {
     "data": {
      "text/plain": [
       "Refuse and Recycling                            1719\n",
       "Streets, Utilities, and Transportation           246\n",
       "General Questions/information                    212\n",
       "Parks, Trees and Vegetation                       54\n",
       "Environmental Services and Programs               33\n",
       "Facilities, Electrical & Property Management      23\n",
       "Business License                                  22\n",
       "Traffic and Transportation                        15\n",
       "Graffiti and Vandalism                            10\n",
       "Other Account Services and Billing                 4\n",
       "Equipment Maintenance                              3\n",
       "dtype: int64"
      ]
     },
     "execution_count": 8,
     "metadata": {},
     "output_type": "execute_result"
    }
   ],
   "source": [
    "# what is the distribution of issue types?\n",
    "df_geo['issue_type'].value_counts()"
   ]
  },
  {
   "cell_type": "markdown",
   "metadata": {},
   "source": [
    "Finally, convert each row in the dataframe to a geojson-formatted feature and save the result as a file. The format is pretty simple and you can see it here: http://geojson.org/"
   ]
  },
  {
   "cell_type": "code",
   "execution_count": 9,
   "metadata": {
    "collapsed": true
   },
   "outputs": [],
   "source": [
    "# create a new python dict to contain our geojson data, using geojson format\n",
    "geojson = {'type':'FeatureCollection', 'features':[]}"
   ]
  },
  {
   "cell_type": "code",
   "execution_count": 10,
   "metadata": {
    "collapsed": false
   },
   "outputs": [],
   "source": [
    "# loop through each row in the dataframe and convert each row to geojson format\n",
    "for _, row in df_geo.iterrows():\n",
    "    feature = {'type':'Feature',\n",
    "               'geometry':{\n",
    "                   'type':'Point',\n",
    "                   'coordinates':[row['longitude'],row['latitude']]},\n",
    "               'properties': {\n",
    "                   'street_address':row['street_address'],\n",
    "                   'issue_description':row['issue_description'], \n",
    "                   'issue_type':row['issue_type'],\n",
    "                   'ticket_status':row['ticket_status']}}\n",
    "    \n",
    "    # add this feature (aka, converted dataframe row) to the list of features inside our dict\n",
    "    geojson['features'].append(feature)"
   ]
  },
  {
   "cell_type": "code",
   "execution_count": 11,
   "metadata": {
    "collapsed": false
   },
   "outputs": [
    {
     "name": "stdout",
     "output_type": "stream",
     "text": [
      "2341 geotagged features saved to file\n"
     ]
    }
   ],
   "source": [
    "# save the geojson result to a file\n",
    "output_filename = 'dataset.js'\n",
    "with open(output_filename, 'wb') as output_file:\n",
    "    output_file.write('var dataset = ')\n",
    "    json.dump(geojson, output_file, indent=2)  \n",
    "    \n",
    "# how many features did we save to the geojson file?\n",
    "print '{} geotagged features saved to file'.format(len(geojson['features']))"
   ]
  },
  {
   "cell_type": "markdown",
   "metadata": {},
   "source": [
    "Now just load that dataset.js file with leaflet to map it. See berkeley-311-map.html for an example of creating the map, and see sample-blog-post.html for an example of how to display this map inside another web page."
   ]
  }
 ],
 "metadata": {
  "kernelspec": {
   "display_name": "Python 2",
   "language": "python",
   "name": "python2"
  },
  "language_info": {
   "codemirror_mode": {
    "name": "ipython",
    "version": 2
   },
   "file_extension": ".py",
   "mimetype": "text/x-python",
   "name": "python",
   "nbconvert_exporter": "python",
   "pygments_lexer": "ipython2",
   "version": "2.7.10"
  }
 },
 "nbformat": 4,
 "nbformat_minor": 0
}
