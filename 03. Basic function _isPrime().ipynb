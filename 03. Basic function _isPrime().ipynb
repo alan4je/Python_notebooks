{
 "cells": [
  {
   "cell_type": "markdown",
   "metadata": {},
   "source": [
    "# 1. Write a function isPrime(n) that accepts an argument n and returns boolean True if n is a prime number and boolean False if n is not prime. \n",
    "\n",
    "Logic: I thought of a way of identifying a factor for a given number, and I realized that one only needs half of the integers to check for a factor excluding zero and one. So I looped through the integers from 2 to int(n/2)+1 so check whether any of these numbers is a factor of n. If not, then I would conclude that the number has just one factor one and itself, hence a prime number. In the code, I excluded number less or equal to one and non-integers."
   ]
  },
  {
   "cell_type": "code",
   "execution_count": 1,
   "metadata": {
    "collapsed": false
   },
   "outputs": [],
   "source": [
    "def isPrime(n):\n",
    "    #checking for negative numbers and non integers\n",
    "    if (n <=1) or not isinstance(n, int):\n",
    "        return False\n",
    "    \n",
    "    #looping through half of possible factors of n\n",
    "    for i in range(int(n/2)+1)[2:]:\n",
    "        #checking whether numnber is a factor of n, if yes then modulus should be zero\n",
    "        if n%i == 0:\n",
    "            return False\n",
    "    return True"
   ]
  },
  {
   "cell_type": "code",
   "execution_count": 2,
   "metadata": {
    "collapsed": false
   },
   "outputs": [
    {
     "name": "stdout",
     "output_type": "stream",
     "text": [
      "False\n",
      "False\n",
      "True\n"
     ]
    }
   ],
   "source": [
    "print isPrime(4)\n",
    "print isPrime(23.1)\n",
    "print isPrime(37)"
   ]
  },
  {
   "cell_type": "code",
   "execution_count": 3,
   "metadata": {
    "collapsed": false
   },
   "outputs": [
    {
     "name": "stdout",
     "output_type": "stream",
     "text": [
      "False\n"
     ]
    }
   ],
   "source": [
    "print isinstance(2.1, int)"
   ]
  },
  {
   "cell_type": "markdown",
   "metadata": {},
   "source": [
    "# 2. Write a function printPrimes(n) that accepts an argument n and prints all the prime numbers between 0 and n (inclusive). \n",
    "\n",
    "Logic: I looped through all the integers from 0 to n, then determined whether the integer is prime or not. The error-check I introduced was to screen out negative numbers and non-integers."
   ]
  },
  {
   "cell_type": "code",
   "execution_count": 4,
   "metadata": {
    "collapsed": false
   },
   "outputs": [],
   "source": [
    "def printPrimes(n):\n",
    "    if (n < 2) or not isinstance(n, int):\n",
    "        print 'function accepts only integers and should be greater than 1'\n",
    "        return\n",
    "    for i in range(n+1):\n",
    "        if isPrime(i):\n",
    "            print i"
   ]
  },
  {
   "cell_type": "code",
   "execution_count": 5,
   "metadata": {
    "collapsed": false
   },
   "outputs": [
    {
     "name": "stdout",
     "output_type": "stream",
     "text": [
      "2\n",
      "3\n",
      "5\n",
      "7\n",
      "11\n",
      "13\n",
      "17\n",
      "19\n"
     ]
    }
   ],
   "source": [
    "printPrimes(20)"
   ]
  },
  {
   "cell_type": "markdown",
   "metadata": {},
   "source": [
    "# 3. Write a function countPrimes(n) that accepts an argument n and returns an int count of how many prime numbers there are between 0 and n (inclusive).\n",
    "\n",
    "Logic: For this problem, a container to store the prime numbers is required so I created that first. Then I looped through all the required integers and stored the corresponding prime numbers in the container. At the end of the function, I return the length of container which is the number of prime numbers between 0 and n."
   ]
  },
  {
   "cell_type": "code",
   "execution_count": 6,
   "metadata": {
    "collapsed": true
   },
   "outputs": [],
   "source": [
    "def countPrimes(n):\n",
    "    primes = []\n",
    "    for i in range(n+1):\n",
    "        if isPrime(i):\n",
    "            primes.append(i)\n",
    "    return len(primes)\n"
   ]
  },
  {
   "cell_type": "code",
   "execution_count": 7,
   "metadata": {
    "collapsed": false
   },
   "outputs": [
    {
     "name": "stdout",
     "output_type": "stream",
     "text": [
      "8\n"
     ]
    }
   ],
   "source": [
    "print countPrimes(19)"
   ]
  },
  {
   "cell_type": "markdown",
   "metadata": {},
   "source": [
    "# 4. Write a function firstPrimes(n) that accepts an argument n and returns a Python list containing the first n prime numbers. (Hint: use a while loop and append each prime you find to a list.) \n",
    "\n",
    "Logic: A container (used a list) is necessary to store the prime numbers. Loop through all the integers and store just the prime numbers while checking the length of the container (list). Stop the iteration when the length of the list is equal to the number of primes required. Added an error check to ensure that only integers are accepted by the function."
   ]
  },
  {
   "cell_type": "code",
   "execution_count": 8,
   "metadata": {
    "collapsed": true
   },
   "outputs": [],
   "source": [
    "def firstPrimes(n):\n",
    "    if not isinstance(n, int):\n",
    "        print 'Function only accepts integers'\n",
    "        return\n",
    "    primes = []\n",
    "    count = 2\n",
    "    while len(primes) < n:\n",
    "        if isPrime(count):\n",
    "            primes.append(count)\n",
    "        count+=1\n",
    "    return primes"
   ]
  },
  {
   "cell_type": "code",
   "execution_count": 9,
   "metadata": {
    "collapsed": false
   },
   "outputs": [
    {
     "name": "stdout",
     "output_type": "stream",
     "text": [
      "[2, 3, 5, 7, 11, 13, 17, 19, 23, 29, 31, 37, 41, 43, 47, 53, 59, 61, 67, 71, 73, 79, 83, 89, 97, 101, 103, 107, 109, 113, 127, 131, 137, 139, 149, 151, 157, 163, 167, 173, 179, 181, 191, 193, 197, 199, 211, 223, 227, 229, 233, 239, 241, 251, 257, 263, 269, 271, 277, 281, 283, 293, 307, 311, 313, 317, 331, 337, 347, 349, 353, 359, 367, 373, 379, 383, 389, 397, 401, 409, 419, 421, 431, 433, 439, 443, 449, 457, 461, 463, 467, 479, 487, 491, 499, 503, 509, 521, 523, 541]\n"
     ]
    }
   ],
   "source": [
    "print firstPrimes(100)"
   ]
  },
  {
   "cell_type": "code",
   "execution_count": 10,
   "metadata": {
    "collapsed": false
   },
   "outputs": [
    {
     "name": "stdout",
     "output_type": "stream",
     "text": [
      "[2, 3, 5, 7, 11, 13, 17, 19, 23, 29, 31, 37, 41, 43, 47, 53, 59, 61, 67, 71]\n"
     ]
    }
   ],
   "source": [
    "print firstPrimes(20)"
   ]
  }
 ],
 "metadata": {
  "kernelspec": {
   "display_name": "Python 2",
   "language": "python",
   "name": "python2"
  },
  "language_info": {
   "codemirror_mode": {
    "name": "ipython",
    "version": 2
   },
   "file_extension": ".py",
   "mimetype": "text/x-python",
   "name": "python",
   "nbconvert_exporter": "python",
   "pygments_lexer": "ipython2",
   "version": "2.7.9"
  }
 },
 "nbformat": 4,
 "nbformat_minor": 0
}
