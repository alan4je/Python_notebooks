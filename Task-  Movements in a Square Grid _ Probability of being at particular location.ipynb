{
 "cells": [
  {
   "cell_type": "code",
   "execution_count": 1,
   "metadata": {
    "collapsed": true
   },
   "outputs": [],
   "source": [
    "import pandas as pd, numpy as np\n",
    "import time"
   ]
  },
  {
   "cell_type": "code",
   "execution_count": 2,
   "metadata": {
    "collapsed": false
   },
   "outputs": [],
   "source": [
    "# from joblib import Parallel, delayed  \n",
    "# import multiprocessing\n",
    "# num_cores = multiprocessing.cpu_count()\n",
    "# results = Parallel(n_jobs=num_cores)(delayed(getOccurences)(3, 10) for i in sims)\n",
    "# print num_cores"
   ]
  },
  {
   "cell_type": "code",
   "execution_count": 3,
   "metadata": {
    "collapsed": false
   },
   "outputs": [],
   "source": [
    "# movements are east or west, and north or south. For east-west movements, the indicator is either +/-x resp,\n",
    "# that for north-south is +/- y respectively. The \n",
    "def getOccurences(blocks, moves=10):    \n",
    "    x = 0 # initializing x variable\n",
    "    y = 0 # initializing y variable\n",
    "    draws = np.random.uniform(0,1,moves)\n",
    "    x += len(draws[(draws <= 0.25)])\n",
    "    x -= len(draws[(draws > 0.25) & (draws <= 0.5)])\n",
    "    y += len(draws[(draws > 0.5) & (draws <= 0.75)])\n",
    "    y -= len(draws[(draws > .75) &(draws <= 1.0)])\n",
    "    if (abs(x) >= blocks) | (abs(y) >= blocks):\n",
    "        return 1\n",
    "    return 0\n",
    "\n",
    "def runSimulation(blocks = 3, moves = 10, sims = 1000):\n",
    "    runs = np.repeat(blocks,sims)\n",
    "    ds = pd.DataFrame(runs)\n",
    "    ds['wins'] = ds[0].apply(getOccurences, args = (moves,))\n",
    "    return ds['wins'].mean()\n",
    "\n",
    "# Another version of function that generates a square matrix and loops over each cell using apply(map)\n",
    "def getProb(blocks, n):\n",
    "    cols = np.repeat(blocks,n)\n",
    "    mat  = np.tile(cols, (n,1))\n",
    "    dat = pd.DataFrame(mat)\n",
    "    ndat = dat.applymap(getOccurences)\n",
    "    return ndat.sum().sum()*1.0/(n*n)\n",
    "def getResult(blocks=3, moves = 10, sims = 1000):\n",
    "    result = [runSimulation(blocks,moves,999) for i in range(sims)]\n",
    "    return np.round(np.mean(result), 11)"
   ]
  },
  {
   "cell_type": "code",
   "execution_count": 4,
   "metadata": {
    "collapsed": false
   },
   "outputs": [],
   "source": [
    "# test1 = getProb(3, 1000)\n",
    "# t = 0 # number of occurences\n",
    "# sims = 1000000 # number of simulations\n",
    "# start = time.time()\n",
    "# for sim in range(sims):\n",
    "#     t += getOccurences(3, 10) \n",
    "# end = time.time()\n",
    "# print t*1.0/sims\n",
    "# print end-start"
   ]
  },
  {
   "cell_type": "code",
   "execution_count": 12,
   "metadata": {
    "collapsed": false
   },
   "outputs": [
    {
     "name": "stdout",
     "output_type": "stream",
     "text": [
      "At-least 3 blocks away after 10 moves, Prob = 0.4550069513\n",
      "At-least 10 blocks away after 60 moves, Prob = 0.1579860973\n"
     ]
    }
   ],
   "source": [
    "print 'At-least 3 blocks away after 10 moves, Prob = %.10f' %getResult(3,10, 1007)\n",
    "print 'At-least 10 blocks away after 60 moves, Prob = %.10f' %getResult(10,60, 1007)"
   ]
  },
  {
   "cell_type": "code",
   "execution_count": 6,
   "metadata": {
    "collapsed": false
   },
   "outputs": [],
   "source": [
    "def reachesPoint(blocks, moves):    \n",
    "    x = 0 # initializing x variable\n",
    "    y = 0 # initializing y variable\n",
    "    draws = np.random.uniform(0,1,moves)\n",
    "    for p in draws:\n",
    "        if p <= 0.25:\n",
    "            x+=1\n",
    "            if abs(x) >= blocks:\n",
    "                return 1\n",
    "        elif (p > 0.25) & (p <= 0.5):\n",
    "            x-=1\n",
    "            if abs(x) >= blocks:\n",
    "                return 1\n",
    "        elif (p > 0.5) & (p <= 0.75):\n",
    "            y += 1\n",
    "            if abs(y) >= blocks:\n",
    "                return 1\n",
    "        else:\n",
    "            y -= 1\n",
    "            if abs(y) >= blocks:\n",
    "                return 1\n",
    "    return 0\n",
    "\n",
    "def runSimulation2(blocks , moves , sims):\n",
    "    runs = np.repeat(blocks,sims)\n",
    "    ds = pd.DataFrame(runs)\n",
    "    ds['wins'] = ds[0].apply(reachesPoint, args = (moves,))\n",
    "    return ds['wins'].mean()\n",
    "\n",
    "def getResult2(blocks=5, moves = 10, sims = 1000):\n",
    "    result = [runSimulation2(blocks,moves,999) for i in range(sims)]\n",
    "    return np.mean(result)"
   ]
  },
  {
   "cell_type": "code",
   "execution_count": 7,
   "metadata": {
    "collapsed": false
   },
   "outputs": [
    {
     "name": "stdout",
     "output_type": "stream",
     "text": [
      "Ever at-least 5 blocks away after 10 moves, Prob = 0.1054844845\n",
      "Ever at-least 10 blocks away after 60 moves, Prob = 0.2571901902\n"
     ]
    }
   ],
   "source": [
    "print 'Ever at-least 5 blocks away after 10 moves, Prob = %.10f' %getResult2(5,10, 1000)\n",
    "print 'Ever at-least 10 blocks away after 60 moves, Prob = %.10f' %getResult2(10,60, 1000)"
   ]
  },
  {
   "cell_type": "code",
   "execution_count": 8,
   "metadata": {
    "collapsed": false
   },
   "outputs": [],
   "source": [
    "def occurencesAfterReachesPoint(blocks, moves):    \n",
    "    x = 0 # initializing x variable\n",
    "    y = 0 # initializing y variable\n",
    "    indicator = 0\n",
    "    draws = np.random.uniform(0,1,moves)\n",
    "    for p in draws:\n",
    "        if (x > 1) & (indicator == 0):\n",
    "            indicator = 1\n",
    "        if p <= 0.25:\n",
    "            x+=1\n",
    "        elif (p > 0.25) & (p <= 0.5):\n",
    "            x-=1\n",
    "    if (x < -1*blocks) & (indicator == 1):\n",
    "                return 1\n",
    "    return 0\n",
    "\n",
    "def runSimulation3(blocks , moves , sims):\n",
    "    runs = np.repeat(blocks,sims)\n",
    "    ds = pd.DataFrame(runs)\n",
    "    ds['wins'] = ds[0].apply(occurencesAfterReachesPoint, args = (moves,))\n",
    "    return ds['wins'].mean()\n",
    "\n",
    "def getResult3(blocks=5, moves = 10, sims = 1000):\n",
    "    result = [runSimulation3(blocks,moves,999) for i in range(sims)]\n",
    "    return np.mean(result)"
   ]
  },
  {
   "cell_type": "code",
   "execution_count": 9,
   "metadata": {
    "collapsed": false
   },
   "outputs": [
    {
     "name": "stdout",
     "output_type": "stream",
     "text": [
      "west of 1st West after east of 1st East away in 10 moves, Prob = 0.0059689690\n",
      "west of 1st West after east of 1st East away in 30 moves, Prob = 0.0776186186\n"
     ]
    }
   ],
   "source": [
    "print 'west of 1st West after east of 1st East away in 10 moves, Prob = %.10f' %getResult3(1,10, 1000)\n",
    "print 'west of 1st West after east of 1st East away in 30 moves, Prob = %.10f' %getResult3(1,30, 1000)"
   ]
  },
  {
   "cell_type": "markdown",
   "metadata": {},
   "source": [
    "What is the average number of moves until the first time the tourist is at least 10 city blocks (as the crow flies) from Broadway and Broadway."
   ]
  },
  {
   "cell_type": "code",
   "execution_count": 10,
   "metadata": {
    "collapsed": false
   },
   "outputs": [],
   "source": [
    "def movesBefore(blocks):    \n",
    "    x = 0 # initializing x variable\n",
    "    y = 0 # initializing y variable\n",
    "    draws = np.random.uniform(0,1,1000)\n",
    "    counter = 0\n",
    "    for p in draws:\n",
    "        counter += 1\n",
    "        if p <= 0.25:\n",
    "            x+=1\n",
    "            if abs(x) >= blocks:\n",
    "                return counter\n",
    "        elif (p > 0.25) & (p <= 0.5):\n",
    "            x-=1\n",
    "            if abs(x) >= blocks:\n",
    "                return counter\n",
    "        elif (p > 0.5) & (p <= 0.75):\n",
    "            y += 1\n",
    "            if abs(y) >= blocks:\n",
    "                return counter\n",
    "        else:\n",
    "            y -= 1\n",
    "            if abs(y) >= blocks:\n",
    "                return counter\n",
    "    return -1\n",
    "\n",
    "def runSimulation4(blocks , sims):\n",
    "    runs = np.repeat(blocks,sims)\n",
    "    ds = pd.DataFrame(runs)\n",
    "    res = np.array(ds[0].apply(movesBefore))\n",
    "    counts = res[res>0]\n",
    "    return np.mean(counts)\n",
    "\n",
    "def getResult4(blocks=5, sims = 1000):\n",
    "    result = [runSimulation4(blocks, 999) for i in range(sims)]\n",
    "    return np.mean(result)"
   ]
  },
  {
   "cell_type": "code",
   "execution_count": 13,
   "metadata": {
    "collapsed": false
   },
   "outputs": [
    {
     "name": "stdout",
     "output_type": "stream",
     "text": [
      "Tourist at at-least 10 blocks away in 117.6608639197 moves on average\n",
      "Tourist at at-least 60 blocks away in 823.5127622682 moves on average\n"
     ]
    }
   ],
   "source": [
    "print 'Tourist at at-least 10 blocks away in %.10f moves on average' %getResult4(10, 1099)\n",
    "print 'Tourist at at-least 60 blocks away in %.10f moves on average' %getResult4(60, 1099)"
   ]
  },
  {
   "cell_type": "markdown",
   "metadata": {},
   "source": []
  }
 ],
 "metadata": {
  "kernelspec": {
   "display_name": "Python 2",
   "language": "python",
   "name": "python2"
  },
  "language_info": {
   "codemirror_mode": {
    "name": "ipython",
    "version": 2
   },
   "file_extension": ".py",
   "mimetype": "text/x-python",
   "name": "python",
   "nbconvert_exporter": "python",
   "pygments_lexer": "ipython2",
   "version": "2.7.9"
  }
 },
 "nbformat": 4,
 "nbformat_minor": 0
}
