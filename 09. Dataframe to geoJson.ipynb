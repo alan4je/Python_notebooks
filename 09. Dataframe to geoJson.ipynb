{
 "cells": [
  {
   "cell_type": "code",
   "execution_count": 1,
   "metadata": {
    "collapsed": true
   },
   "outputs": [],
   "source": [
    "import pandas as pd, json as json"
   ]
  },
  {
   "cell_type": "code",
   "execution_count": 2,
   "metadata": {
    "collapsed": true
   },
   "outputs": [],
   "source": [
    "ds = pd.read_csv('../A8/cp255A8.csv')"
   ]
  },
  {
   "cell_type": "code",
   "execution_count": 3,
   "metadata": {
    "collapsed": false
   },
   "outputs": [
    {
     "data": {
      "text/html": [
       "<div>\n",
       "<table border=\"1\" class=\"dataframe\">\n",
       "  <thead>\n",
       "    <tr style=\"text-align: right;\">\n",
       "      <th></th>\n",
       "      <th>Unnamed: 0</th>\n",
       "      <th>UID</th>\n",
       "      <th>IsBridge</th>\n",
       "      <th>SURFTHK</th>\n",
       "      <th>ULT</th>\n",
       "      <th>MinT</th>\n",
       "      <th>MaxT</th>\n",
       "      <th>prep</th>\n",
       "      <th>AADT</th>\n",
       "      <th>Y_ESAL</th>\n",
       "      <th>Longitude</th>\n",
       "      <th>Latitude</th>\n",
       "    </tr>\n",
       "  </thead>\n",
       "  <tbody>\n",
       "    <tr>\n",
       "      <th>0</th>\n",
       "      <td>712</td>\n",
       "      <td>1</td>\n",
       "      <td>0</td>\n",
       "      <td>0.25</td>\n",
       "      <td>1.00</td>\n",
       "      <td>-0.69</td>\n",
       "      <td>24.900000</td>\n",
       "      <td>841.650024</td>\n",
       "      <td>6415</td>\n",
       "      <td>30058</td>\n",
       "      <td>-122.169366</td>\n",
       "      <td>47.978215</td>\n",
       "    </tr>\n",
       "    <tr>\n",
       "      <th>1</th>\n",
       "      <td>635</td>\n",
       "      <td>24</td>\n",
       "      <td>1</td>\n",
       "      <td>0.00</td>\n",
       "      <td>0.15</td>\n",
       "      <td>-0.92</td>\n",
       "      <td>24.650000</td>\n",
       "      <td>906.809998</td>\n",
       "      <td>45712</td>\n",
       "      <td>174012</td>\n",
       "      <td>-122.133338</td>\n",
       "      <td>47.978414</td>\n",
       "    </tr>\n",
       "    <tr>\n",
       "      <th>2</th>\n",
       "      <td>671</td>\n",
       "      <td>33</td>\n",
       "      <td>0</td>\n",
       "      <td>0.12</td>\n",
       "      <td>1.54</td>\n",
       "      <td>-0.92</td>\n",
       "      <td>24.650000</td>\n",
       "      <td>906.809998</td>\n",
       "      <td>31066</td>\n",
       "      <td>118246</td>\n",
       "      <td>-122.120592</td>\n",
       "      <td>47.970205</td>\n",
       "    </tr>\n",
       "    <tr>\n",
       "      <th>3</th>\n",
       "      <td>27</td>\n",
       "      <td>66</td>\n",
       "      <td>1</td>\n",
       "      <td>0.00</td>\n",
       "      <td>0.15</td>\n",
       "      <td>-1.14</td>\n",
       "      <td>24.420000</td>\n",
       "      <td>1024.199951</td>\n",
       "      <td>20944</td>\n",
       "      <td>79442</td>\n",
       "      <td>-122.070079</td>\n",
       "      <td>47.947539</td>\n",
       "    </tr>\n",
       "    <tr>\n",
       "      <th>4</th>\n",
       "      <td>694</td>\n",
       "      <td>81</td>\n",
       "      <td>0</td>\n",
       "      <td>0.25</td>\n",
       "      <td>1.15</td>\n",
       "      <td>-1.31</td>\n",
       "      <td>24.799999</td>\n",
       "      <td>1088.739990</td>\n",
       "      <td>20995</td>\n",
       "      <td>79671</td>\n",
       "      <td>-122.062374</td>\n",
       "      <td>47.922928</td>\n",
       "    </tr>\n",
       "  </tbody>\n",
       "</table>\n",
       "</div>"
      ],
      "text/plain": [
       "   Unnamed: 0  UID  IsBridge  SURFTHK   ULT  MinT       MaxT         prep  \\\n",
       "0         712    1         0     0.25  1.00 -0.69  24.900000   841.650024   \n",
       "1         635   24         1     0.00  0.15 -0.92  24.650000   906.809998   \n",
       "2         671   33         0     0.12  1.54 -0.92  24.650000   906.809998   \n",
       "3          27   66         1     0.00  0.15 -1.14  24.420000  1024.199951   \n",
       "4         694   81         0     0.25  1.15 -1.31  24.799999  1088.739990   \n",
       "\n",
       "    AADT  Y_ESAL   Longitude   Latitude  \n",
       "0   6415   30058 -122.169366  47.978215  \n",
       "1  45712  174012 -122.133338  47.978414  \n",
       "2  31066  118246 -122.120592  47.970205  \n",
       "3  20944   79442 -122.070079  47.947539  \n",
       "4  20995   79671 -122.062374  47.922928  "
      ]
     },
     "execution_count": 3,
     "metadata": {},
     "output_type": "execute_result"
    }
   ],
   "source": [
    "ds.head()"
   ]
  },
  {
   "cell_type": "code",
   "execution_count": 4,
   "metadata": {
    "collapsed": true
   },
   "outputs": [],
   "source": [
    "# convert lat-long to floats and change address from ALL CAPS to regular capitalization\n",
    "ds['Latitude'] = ds['Latitude'].astype(float)\n",
    "ds['Longitude'] = ds['Longitude'].astype(float)\n",
    "ds['prep'] = ds['prep'].astype(float)"
   ]
  },
  {
   "cell_type": "code",
   "execution_count": 6,
   "metadata": {
    "collapsed": true
   },
   "outputs": [],
   "source": [
    "# removing some columns\n",
    "cols = ['IsBridge', 'ULT', 'Latitude', 'Longitude', 'MinT', 'MaxT', 'prep', 'Y_ESAL']\n",
    "df = ds[cols]"
   ]
  },
  {
   "cell_type": "code",
   "execution_count": 8,
   "metadata": {
    "collapsed": false
   },
   "outputs": [
    {
     "name": "stdout",
     "output_type": "stream",
     "text": [
      "0\n"
     ]
    }
   ],
   "source": [
    "print len(df[df.Longitude.isnull() == 1])"
   ]
  },
  {
   "cell_type": "code",
   "execution_count": 23,
   "metadata": {
    "collapsed": true
   },
   "outputs": [],
   "source": [
    "# create a new python dict to contain our geojson data, using geojson format\n",
    "geojson = {'type':'FeatureCollection', 'features':[]}"
   ]
  },
  {
   "cell_type": "code",
   "execution_count": 24,
   "metadata": {
    "collapsed": true
   },
   "outputs": [],
   "source": [
    "# loop through each row in the dataframe and convert each row to geojson format\n",
    "for _, row in df.iterrows():\n",
    "    feature = {'type':'Feature',\n",
    "               'geometry':{\n",
    "                   'type':'Point',\n",
    "                   'coordinates':[row['Longitude'],row['Latitude']]},\n",
    "               'properties': {\n",
    "                   'layer_thickness':'{} ft thick'.format(round(row['ULT'],2)),\n",
    "                   'Annual_loading':'{} ESALs'.format(int(row['Y_ESAL'])), \n",
    "                   'IsBridge':row['IsBridge'],\n",
    "                   'Annual_precipitation':'Precipitation: {}'.format(int(row['prep'])),\n",
    "                    'min_temperature':'Min Temp: {}°C'.format(round(row['MinT'], 2)),\n",
    "                    'max_temperature':'Max Temp: {}°C'.format(round(row['MaxT'], 2))}}\n",
    "    \n",
    "    # add this feature (aka, converted dataframe row) to the list of features inside our dict\n",
    "    geojson['features'].append(feature)"
   ]
  },
  {
   "cell_type": "code",
   "execution_count": 25,
   "metadata": {
    "collapsed": false
   },
   "outputs": [
    {
     "name": "stdout",
     "output_type": "stream",
     "text": [
      "1761 geotagged features saved to file\n"
     ]
    }
   ],
   "source": [
    "# save the geojson result to a file\n",
    "output_filename = '../A8/dataset.js'\n",
    "with open(output_filename, 'wb') as output_file:\n",
    "    output_file.write('var dataset = ')\n",
    "    json.dump(geojson, output_file, indent=2)  \n",
    "    \n",
    "# how many features did we save to the geojson file?\n",
    "print '{} geotagged features saved to file'.format(len(geojson['features']))"
   ]
  },
  {
   "cell_type": "code",
   "execution_count": null,
   "metadata": {
    "collapsed": true
   },
   "outputs": [],
   "source": []
  }
 ],
 "metadata": {
  "kernelspec": {
   "display_name": "Python 2",
   "language": "python",
   "name": "python2"
  },
  "language_info": {
   "codemirror_mode": {
    "name": "ipython",
    "version": 2
   },
   "file_extension": ".py",
   "mimetype": "text/x-python",
   "name": "python",
   "nbconvert_exporter": "python",
   "pygments_lexer": "ipython2",
   "version": "2.7.10"
  }
 },
 "nbformat": 4,
 "nbformat_minor": 0
}
